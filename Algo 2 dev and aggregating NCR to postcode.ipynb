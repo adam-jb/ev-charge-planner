{
 "cells": [
  {
   "cell_type": "code",
   "execution_count": 948,
   "id": "e8e3cf5c",
   "metadata": {},
   "outputs": [],
   "source": [
    "import requests\n",
    "import pandas as pd\n",
    "import numpy as np\n",
    "import os\n",
    "import json\n",
    "import time\n",
    "import math\n",
    "import polyline\n",
    "\n"
   ]
  },
  {
   "cell_type": "code",
   "execution_count": 35,
   "id": "e95ceb24",
   "metadata": {},
   "outputs": [
    {
     "name": "stderr",
     "output_type": "stream",
     "text": [
      "/opt/anaconda3/lib/python3.8/site-packages/IPython/core/interactiveshell.py:3165: DtypeWarning: Columns (4,14) have mixed types.Specify dtype option on import or set low_memory=False.\n",
      "  has_raised = await self.run_ast_nodes(code_ast.body, cell_name,\n"
     ]
    }
   ],
   "source": [
    "ncr = pd.read_csv('/Users/dftdatascience/Desktop/ev-charge-planner/flask/NCR.csv')"
   ]
  },
  {
   "cell_type": "code",
   "execution_count": null,
   "id": "855e213d",
   "metadata": {},
   "outputs": [],
   "source": []
  },
  {
   "cell_type": "code",
   "execution_count": 36,
   "id": "95ce36b6",
   "metadata": {},
   "outputs": [],
   "source": [
    "# count chargers at each\n",
    "charger_cols = ['connector1RatedOutputKW'\n",
    "'connector2RatedOutputKW'\n",
    "'connector3RatedOutputKW'\n",
    "'connector4RatedOutputKW'\n",
    "'connector5RatedOutputKW'\n",
    "'connector6RatedOutputKW'\n",
    "'connector7RatedOutputKW'\n",
    "'connector8RatedOutputKW']\n",
    "\n",
    "\n",
    "ncr['chargers_count'] = np.select(\n",
    "    [\n",
    "        ncr['connector8RatedOutputKW'] > 0.1, \n",
    "        ncr['connector7RatedOutputKW'] > 0.1, \n",
    "        ncr['connector6RatedOutputKW'] > 0.1, \n",
    "        ncr['connector5RatedOutputKW'] > 0.1, \n",
    "        ncr['connector4RatedOutputKW'] > 0.1, \n",
    "        ncr['connector3RatedOutputKW'] > 0.1, \n",
    "        ncr['connector2RatedOutputKW'] > 0.1, \n",
    "        ncr['connector1RatedOutputKW'] > 0.1\n",
    "        ### add greater than.... \n",
    "    ], \n",
    "    [\n",
    "        8,\n",
    "        7,\n",
    "        6,\n",
    "        5,\n",
    "        4,\n",
    "        3,\n",
    "        2,\n",
    "        1\n",
    "    ], \n",
    "    default=0\n",
    ")\n",
    "\n"
   ]
  },
  {
   "cell_type": "code",
   "execution_count": 38,
   "id": "8582fc79",
   "metadata": {},
   "outputs": [],
   "source": [
    "ncr.to_csv('/Users/dftdatascience/Desktop/ev-charge-planner/flask/NCR_charger_counts.csv')"
   ]
  },
  {
   "cell_type": "code",
   "execution_count": 18,
   "id": "d058caad",
   "metadata": {},
   "outputs": [
    {
     "data": {
      "text/plain": [
       "<AxesSubplot:>"
      ]
     },
     "execution_count": 18,
     "metadata": {},
     "output_type": "execute_result"
    },
    {
     "data": {
      "image/png": "[encoded data removed]",
      "text/plain": [
       "<Figure size 432x288 with 1 Axes>"
      ]
     },
     "metadata": {
      "needs_background": "light"
     },
     "output_type": "display_data"
    }
   ],
   "source": [
    "# view number of chargers\n",
    "ncr['chargers_count'].hist()"
   ]
  },
  {
   "cell_type": "code",
   "execution_count": 22,
   "id": "b557cc7f",
   "metadata": {},
   "outputs": [
    {
     "data": {
      "text/plain": [
       "<AxesSubplot:>"
      ]
     },
     "execution_count": 22,
     "metadata": {},
     "output_type": "execute_result"
    },
    {
     "data": {
      "image/png": "[encoded data removed]",
      "text/plain": [
       "<Figure size 432x288 with 1 Axes>"
      ]
     },
     "metadata": {
      "needs_background": "light"
     },
     "output_type": "display_data"
    }
   ],
   "source": [
    "# view fastest connectior kw\n",
    "ncr['FastestConnector_kW'].hist(bins=40)"
   ]
  },
  {
   "cell_type": "code",
   "execution_count": 23,
   "id": "b56d20b5",
   "metadata": {},
   "outputs": [
    {
     "data": {
      "text/html": [
       "<div>\n",
       "<style scoped>\n",
       "    .dataframe tbody tr th:only-of-type {\n",
       "        vertical-align: middle;\n",
       "    }\n",
       "\n",
       "    .dataframe tbody tr th {\n",
       "        vertical-align: top;\n",
       "    }\n",
       "\n",
       "    .dataframe thead th {\n",
       "        text-align: right;\n",
       "    }\n",
       "</style>\n",
       "<table border=\"1\" class=\"dataframe\">\n",
       "  <thead>\n",
       "    <tr style=\"text-align: right;\">\n",
       "      <th></th>\n",
       "      <th>chargeDeviceID</th>\n",
       "      <th>name</th>\n",
       "      <th>latitude</th>\n",
       "      <th>longitude</th>\n",
       "      <th>subBuildingName</th>\n",
       "      <th>buildingName</th>\n",
       "      <th>buildingNumber</th>\n",
       "      <th>thoroughfare</th>\n",
       "      <th>street</th>\n",
       "      <th>doubleDependantLocality</th>\n",
       "      <th>...</th>\n",
       "      <th>connector1RatedOutputKW</th>\n",
       "      <th>connector2RatedOutputKW</th>\n",
       "      <th>connector3RatedOutputKW</th>\n",
       "      <th>connector4RatedOutputKW</th>\n",
       "      <th>connector5RatedOutputKW</th>\n",
       "      <th>connector6RatedOutputKW</th>\n",
       "      <th>connector7RatedOutputKW</th>\n",
       "      <th>connector8RatedOutputKW</th>\n",
       "      <th>FastestConnector_kW</th>\n",
       "      <th>chargers_count</th>\n",
       "    </tr>\n",
       "  </thead>\n",
       "  <tbody>\n",
       "    <tr>\n",
       "      <th>0</th>\n",
       "      <td>cfeedcdd5e287bef4b583158a12363f1</td>\n",
       "      <td>2 Riddons Road</td>\n",
       "      <td>51.431454</td>\n",
       "      <td>0.031175</td>\n",
       "      <td>NaN</td>\n",
       "      <td>NaN</td>\n",
       "      <td>NaN</td>\n",
       "      <td>Riddons Road</td>\n",
       "      <td>Junction with Chinbrook Road</td>\n",
       "      <td>NaN</td>\n",
       "      <td>...</td>\n",
       "      <td>3.7</td>\n",
       "      <td>7.0</td>\n",
       "      <td>0.0</td>\n",
       "      <td>0.0</td>\n",
       "      <td>0.0</td>\n",
       "      <td>0.0</td>\n",
       "      <td>0.0</td>\n",
       "      <td>0.0</td>\n",
       "      <td>7.0</td>\n",
       "      <td>2</td>\n",
       "    </tr>\n",
       "    <tr>\n",
       "      <th>1</th>\n",
       "      <td>cf164e398bebd2384cbbbfe73fa72fcf</td>\n",
       "      <td>9 Bath Road Car Park</td>\n",
       "      <td>51.480920</td>\n",
       "      <td>-0.419318</td>\n",
       "      <td>NaN</td>\n",
       "      <td>NaN</td>\n",
       "      <td>9</td>\n",
       "      <td>Bath Road</td>\n",
       "      <td>NaN</td>\n",
       "      <td>Hounslow</td>\n",
       "      <td>...</td>\n",
       "      <td>7.0</td>\n",
       "      <td>7.0</td>\n",
       "      <td>7.0</td>\n",
       "      <td>0.0</td>\n",
       "      <td>0.0</td>\n",
       "      <td>0.0</td>\n",
       "      <td>0.0</td>\n",
       "      <td>0.0</td>\n",
       "      <td>7.0</td>\n",
       "      <td>3</td>\n",
       "    </tr>\n",
       "    <tr>\n",
       "      <th>2</th>\n",
       "      <td>e2f964e176efb40969652e3249023645</td>\n",
       "      <td>ACE Cafe London</td>\n",
       "      <td>51.541210</td>\n",
       "      <td>-0.277943</td>\n",
       "      <td>NaN</td>\n",
       "      <td>ACE Cafe London</td>\n",
       "      <td>NaN</td>\n",
       "      <td>North Circular Road</td>\n",
       "      <td>Brent</td>\n",
       "      <td>NaN</td>\n",
       "      <td>...</td>\n",
       "      <td>7.0</td>\n",
       "      <td>7.0</td>\n",
       "      <td>0.0</td>\n",
       "      <td>0.0</td>\n",
       "      <td>0.0</td>\n",
       "      <td>0.0</td>\n",
       "      <td>0.0</td>\n",
       "      <td>0.0</td>\n",
       "      <td>7.0</td>\n",
       "      <td>2</td>\n",
       "    </tr>\n",
       "    <tr>\n",
       "      <th>3</th>\n",
       "      <td>451bf16fff6233cca8d9ad69b31c33b9</td>\n",
       "      <td>Albemarle Street</td>\n",
       "      <td>51.509939</td>\n",
       "      <td>-0.142737</td>\n",
       "      <td>NaN</td>\n",
       "      <td>NaN</td>\n",
       "      <td>NaN</td>\n",
       "      <td>Albemarle Street</td>\n",
       "      <td>NaN</td>\n",
       "      <td>NaN</td>\n",
       "      <td>...</td>\n",
       "      <td>3.7</td>\n",
       "      <td>3.7</td>\n",
       "      <td>7.0</td>\n",
       "      <td>7.0</td>\n",
       "      <td>0.0</td>\n",
       "      <td>0.0</td>\n",
       "      <td>0.0</td>\n",
       "      <td>0.0</td>\n",
       "      <td>7.0</td>\n",
       "      <td>4</td>\n",
       "    </tr>\n",
       "    <tr>\n",
       "      <th>4</th>\n",
       "      <td>9165d83699e3d014274f4737d169a2a0</td>\n",
       "      <td>Alcorn Close</td>\n",
       "      <td>51.378520</td>\n",
       "      <td>-0.202034</td>\n",
       "      <td>NaN</td>\n",
       "      <td>NaN</td>\n",
       "      <td>30</td>\n",
       "      <td>Alcorn Close</td>\n",
       "      <td>NaN</td>\n",
       "      <td>NaN</td>\n",
       "      <td>...</td>\n",
       "      <td>7.0</td>\n",
       "      <td>7.0</td>\n",
       "      <td>0.0</td>\n",
       "      <td>0.0</td>\n",
       "      <td>0.0</td>\n",
       "      <td>0.0</td>\n",
       "      <td>0.0</td>\n",
       "      <td>0.0</td>\n",
       "      <td>7.0</td>\n",
       "      <td>2</td>\n",
       "    </tr>\n",
       "  </tbody>\n",
       "</table>\n",
       "<p>5 rows × 33 columns</p>\n",
       "</div>"
      ],
      "text/plain": [
       "                     chargeDeviceID                  name   latitude  \\\n",
       "0  cfeedcdd5e287bef4b583158a12363f1        2 Riddons Road  51.431454   \n",
       "1  cf164e398bebd2384cbbbfe73fa72fcf  9 Bath Road Car Park  51.480920   \n",
       "2  e2f964e176efb40969652e3249023645       ACE Cafe London  51.541210   \n",
       "3  451bf16fff6233cca8d9ad69b31c33b9      Albemarle Street  51.509939   \n",
       "4  9165d83699e3d014274f4737d169a2a0          Alcorn Close  51.378520   \n",
       "\n",
       "   longitude subBuildingName     buildingName buildingNumber  \\\n",
       "0   0.031175             NaN              NaN            NaN   \n",
       "1  -0.419318             NaN              NaN              9   \n",
       "2  -0.277943             NaN  ACE Cafe London            NaN   \n",
       "3  -0.142737             NaN              NaN            NaN   \n",
       "4  -0.202034             NaN              NaN             30   \n",
       "\n",
       "          thoroughfare                        street doubleDependantLocality  \\\n",
       "0         Riddons Road  Junction with Chinbrook Road                     NaN   \n",
       "1            Bath Road                           NaN                Hounslow   \n",
       "2  North Circular Road                         Brent                     NaN   \n",
       "3     Albemarle Street                           NaN                     NaN   \n",
       "4         Alcorn Close                           NaN                     NaN   \n",
       "\n",
       "   ... connector1RatedOutputKW connector2RatedOutputKW  \\\n",
       "0  ...                     3.7                     7.0   \n",
       "1  ...                     7.0                     7.0   \n",
       "2  ...                     7.0                     7.0   \n",
       "3  ...                     3.7                     3.7   \n",
       "4  ...                     7.0                     7.0   \n",
       "\n",
       "  connector3RatedOutputKW connector4RatedOutputKW connector5RatedOutputKW  \\\n",
       "0                     0.0                     0.0                     0.0   \n",
       "1                     7.0                     0.0                     0.0   \n",
       "2                     0.0                     0.0                     0.0   \n",
       "3                     7.0                     7.0                     0.0   \n",
       "4                     0.0                     0.0                     0.0   \n",
       "\n",
       "  connector6RatedOutputKW connector7RatedOutputKW connector8RatedOutputKW  \\\n",
       "0                     0.0                     0.0                     0.0   \n",
       "1                     0.0                     0.0                     0.0   \n",
       "2                     0.0                     0.0                     0.0   \n",
       "3                     0.0                     0.0                     0.0   \n",
       "4                     0.0                     0.0                     0.0   \n",
       "\n",
       "  FastestConnector_kW chargers_count  \n",
       "0                 7.0              2  \n",
       "1                 7.0              3  \n",
       "2                 7.0              2  \n",
       "3                 7.0              4  \n",
       "4                 7.0              2  \n",
       "\n",
       "[5 rows x 33 columns]"
      ]
     },
     "execution_count": 23,
     "metadata": {},
     "output_type": "execute_result"
    }
   ],
   "source": [
    "ncr.head()"
   ]
  },
  {
   "cell_type": "code",
   "execution_count": 34,
   "id": "fe98cc9e",
   "metadata": {},
   "outputs": [
    {
     "name": "stdout",
     "output_type": "stream",
     "text": [
      "(18651, 33)\n",
      "(14800, 33)\n",
      "(14641, 33)\n",
      "(15293, 33)\n",
      "(10129, 33)\n"
     ]
    }
   ],
   "source": [
    "## aggregating by postcode\n",
    "print(ncr.shape)\n",
    "\n",
    "ff = ncr.drop_duplicates(subset='latitude')\n",
    "print(ff.shape)\n",
    "\n",
    "ff = ncr.drop_duplicates(subset=['longitude'])\n",
    "print(ff.shape)\n",
    "\n",
    "ff = ncr.drop_duplicates(subset=['longitude', 'latitude'])\n",
    "print(ff.shape)\n",
    "\n",
    "ff = ncr.drop_duplicates(subset=['postcode'])\n",
    "print(ff.shape)\n"
   ]
  },
  {
   "cell_type": "code",
   "execution_count": 45,
   "id": "3b7ff30f",
   "metadata": {},
   "outputs": [],
   "source": [
    "# aggregating by postcode\n",
    "place_name = ncr['name'].groupby(ncr_by_postcode['postcode']).first()\n",
    "subBuildingName = ncr['subBuildingName'].groupby(ncr_by_postcode['postcode']).first()\n",
    "buildingName = ncr['buildingName'].groupby(ncr_by_postcode['postcode']).first()\n",
    "buildingNumber = ncr['buildingNumber'].groupby(ncr_by_postcode['postcode']).first()\n",
    "thoroughfare = ncr['thoroughfare'].groupby(ncr_by_postcode['postcode']).first()\n",
    "street = ncr['street'].groupby(ncr_by_postcode['postcode']).first()\n",
    "town = ncr['town'].groupby(ncr_by_postcode['postcode']).first()\n",
    "postcode = ncr['postcode'].groupby(ncr_by_postcode['postcode']).first()\n",
    "fastest_connector = ncr['FastestConnector_kW'].groupby(ncr_by_postcode['postcode']).max()\n",
    "total_connectors = ncr['chargers_count'].groupby(ncr['postcode']).sum()\n",
    "latitude = ncr['latitude'].groupby(ncr['postcode']).mean()\n",
    "longitude = ncr['longitude'].groupby(ncr['postcode']).mean()\n"
   ]
  },
  {
   "cell_type": "code",
   "execution_count": 82,
   "id": "e88ed8f8",
   "metadata": {},
   "outputs": [
    {
     "data": {
      "text/plain": [
       "<AxesSubplot:>"
      ]
     },
     "execution_count": 82,
     "metadata": {},
     "output_type": "execute_result"
    },
    {
     "data": {
      "image/png": "[encoded data removed]",
      "text/plain": [
       "<Figure size 432x288 with 1 Axes>"
      ]
     },
     "metadata": {
      "needs_background": "light"
     },
     "output_type": "display_data"
    }
   ],
   "source": [
    "df['FastestConnector_kW'].hist(bins=40)"
   ]
  },
  {
   "cell_type": "code",
   "execution_count": null,
   "id": "9570aba2",
   "metadata": {},
   "outputs": [],
   "source": []
  },
  {
   "cell_type": "code",
   "execution_count": null,
   "id": "a6748d40",
   "metadata": {},
   "outputs": [],
   "source": [
    "\n"
   ]
  },
  {
   "cell_type": "code",
   "execution_count": 61,
   "id": "89aea61a",
   "metadata": {},
   "outputs": [],
   "source": [
    "# appending values to dataframe\n",
    "df = pd.concat([place_name, subBuildingName, buildingName, buildingNumber, thoroughfare,\n",
    "            street, town, postcode, fastest_connector, total_connectors, latitude, longitude], axis=1)\n",
    "\n"
   ]
  },
  {
   "cell_type": "code",
   "execution_count": 84,
   "id": "6003b529",
   "metadata": {},
   "outputs": [
    {
     "data": {
      "text/html": [
       "<div>\n",
       "<style scoped>\n",
       "    .dataframe tbody tr th:only-of-type {\n",
       "        vertical-align: middle;\n",
       "    }\n",
       "\n",
       "    .dataframe tbody tr th {\n",
       "        vertical-align: top;\n",
       "    }\n",
       "\n",
       "    .dataframe thead th {\n",
       "        text-align: right;\n",
       "    }\n",
       "</style>\n",
       "<table border=\"1\" class=\"dataframe\">\n",
       "  <thead>\n",
       "    <tr style=\"text-align: right;\">\n",
       "      <th></th>\n",
       "      <th>name</th>\n",
       "      <th>subBuildingName</th>\n",
       "      <th>buildingName</th>\n",
       "      <th>buildingNumber</th>\n",
       "      <th>thoroughfare</th>\n",
       "      <th>street</th>\n",
       "      <th>town</th>\n",
       "      <th>postcode</th>\n",
       "      <th>FastestConnector_kW</th>\n",
       "      <th>chargers_count</th>\n",
       "      <th>latitude</th>\n",
       "      <th>longitude</th>\n",
       "    </tr>\n",
       "    <tr>\n",
       "      <th>postcode</th>\n",
       "      <th></th>\n",
       "      <th></th>\n",
       "      <th></th>\n",
       "      <th></th>\n",
       "      <th></th>\n",
       "      <th></th>\n",
       "      <th></th>\n",
       "      <th></th>\n",
       "      <th></th>\n",
       "      <th></th>\n",
       "      <th></th>\n",
       "      <th></th>\n",
       "    </tr>\n",
       "  </thead>\n",
       "  <tbody>\n",
       "    <tr>\n",
       "      <th>CR0 1BF</th>\n",
       "      <td>South End</td>\n",
       "      <td>None</td>\n",
       "      <td>None</td>\n",
       "      <td>None</td>\n",
       "      <td>None</td>\n",
       "      <td>South End</td>\n",
       "      <td>Croydon</td>\n",
       "      <td>CR0 1BF</td>\n",
       "      <td>22.0</td>\n",
       "      <td>4</td>\n",
       "      <td>51.366336</td>\n",
       "      <td>-0.099005</td>\n",
       "    </tr>\n",
       "    <tr>\n",
       "      <th>CR7 7JR</th>\n",
       "      <td>Frant Road</td>\n",
       "      <td>None</td>\n",
       "      <td>None</td>\n",
       "      <td>None</td>\n",
       "      <td>None</td>\n",
       "      <td>Frant Road</td>\n",
       "      <td>Croydon</td>\n",
       "      <td>CR7 7JR</td>\n",
       "      <td>7.0</td>\n",
       "      <td>4</td>\n",
       "      <td>51.394708</td>\n",
       "      <td>-0.110724</td>\n",
       "    </tr>\n",
       "    <tr>\n",
       "      <th>20:00</th>\n",
       "      <td>Public estate</td>\n",
       "      <td>07:00</td>\n",
       "      <td>20:00</td>\n",
       "      <td>07:00</td>\n",
       "      <td>20:00</td>\n",
       "      <td>07:00</td>\n",
       "      <td>20:00</td>\n",
       "      <td>20:00</td>\n",
       "      <td>0.0</td>\n",
       "      <td>0</td>\n",
       "      <td>NaN</td>\n",
       "      <td>0.000000</td>\n",
       "    </tr>\n",
       "    <tr>\n",
       "      <th>AB10 1AB</th>\n",
       "      <td>Marischal College, Aberdeen (1)</td>\n",
       "      <td>None</td>\n",
       "      <td>None</td>\n",
       "      <td>None</td>\n",
       "      <td>Broad Street</td>\n",
       "      <td>None</td>\n",
       "      <td>Aberdeen</td>\n",
       "      <td>AB10 1AB</td>\n",
       "      <td>7.0</td>\n",
       "      <td>4</td>\n",
       "      <td>57.149762</td>\n",
       "      <td>-2.095643</td>\n",
       "    </tr>\n",
       "    <tr>\n",
       "      <th>AB10 1LU</th>\n",
       "      <td>Gallowgate, Aberdeen (1)</td>\n",
       "      <td>None</td>\n",
       "      <td>None</td>\n",
       "      <td>None</td>\n",
       "      <td>Gallowgate</td>\n",
       "      <td>Gallowgate</td>\n",
       "      <td>Aberdeen</td>\n",
       "      <td>AB10 1LU</td>\n",
       "      <td>50.0</td>\n",
       "      <td>5</td>\n",
       "      <td>57.150830</td>\n",
       "      <td>-2.098296</td>\n",
       "    </tr>\n",
       "  </tbody>\n",
       "</table>\n",
       "</div>"
      ],
      "text/plain": [
       "                                     name subBuildingName buildingName  \\\n",
       "postcode                                                                 \n",
       " CR0 1BF                        South End            None         None   \n",
       " CR7 7JR                       Frant Road            None         None   \n",
       "20:00                       Public estate           07:00        20:00   \n",
       "AB10 1AB  Marischal College, Aberdeen (1)            None         None   \n",
       "AB10 1LU         Gallowgate, Aberdeen (1)            None         None   \n",
       "\n",
       "         buildingNumber  thoroughfare      street      town  postcode  \\\n",
       "postcode                                                                \n",
       " CR0 1BF           None          None   South End   Croydon   CR0 1BF   \n",
       " CR7 7JR           None          None  Frant Road   Croydon   CR7 7JR   \n",
       "20:00             07:00         20:00       07:00     20:00     20:00   \n",
       "AB10 1AB           None  Broad Street        None  Aberdeen  AB10 1AB   \n",
       "AB10 1LU           None    Gallowgate  Gallowgate  Aberdeen  AB10 1LU   \n",
       "\n",
       "          FastestConnector_kW  chargers_count   latitude  longitude  \n",
       "postcode                                                             \n",
       " CR0 1BF                 22.0               4  51.366336  -0.099005  \n",
       " CR7 7JR                  7.0               4  51.394708  -0.110724  \n",
       "20:00                     0.0               0        NaN   0.000000  \n",
       "AB10 1AB                  7.0               4  57.149762  -2.095643  \n",
       "AB10 1LU                 50.0               5  57.150830  -2.098296  "
      ]
     },
     "execution_count": 84,
     "metadata": {},
     "output_type": "execute_result"
    }
   ],
   "source": [
    "# \n",
    "df.head()\n",
    "\n"
   ]
  },
  {
   "cell_type": "code",
   "execution_count": 78,
   "id": "db5d4722",
   "metadata": {},
   "outputs": [],
   "source": [
    "# saving\n",
    "df.to_csv('/Users/dftdatascience/Desktop/ev-charge-planner/flask/NCR_aggregated_to_postcode.csv')"
   ]
  },
  {
   "cell_type": "code",
   "execution_count": 88,
   "id": "1d4b6938",
   "metadata": {},
   "outputs": [
    {
     "data": {
      "text/plain": [
       "7.0      3621\n",
       "3.7      3208\n",
       "50.0     2073\n",
       "22.0      992\n",
       "3.0       170\n",
       "11.0       32\n",
       "175.0      10\n",
       "36.0        8\n",
       "120.0       6\n",
       "350.0       4\n",
       "0.0         3\n",
       "150.0       1\n",
       "Name: FastestConnector_kW, dtype: int64"
      ]
     },
     "execution_count": 88,
     "metadata": {},
     "output_type": "execute_result"
    }
   ],
   "source": [
    "# viewing connector speed\n",
    "df['FastestConnector_kW'].value_counts()"
   ]
  },
  {
   "cell_type": "code",
   "execution_count": 90,
   "id": "c6d1b8a7",
   "metadata": {},
   "outputs": [
    {
     "name": "stdout",
     "output_type": "stream",
     "text": [
      "(2094, 12)\n"
     ]
    }
   ],
   "source": [
    "# filtering for fastest connectors being over 49KwH\n",
    "df_faster_connectors = df[df['FastestConnector_kW'] > 49]\n",
    "print(df_faster_connectors.shape)\n",
    "df_faster_connectors.to_csv('/Users/dftdatascience/Desktop/ev-charge-planner/flask/NCR_agg_postcode_filtered_kw.csv')"
   ]
  },
  {
   "cell_type": "code",
   "execution_count": 941,
   "id": "e0a0fa34",
   "metadata": {},
   "outputs": [
    {
     "data": {
      "text/html": [
       "<div>\n",
       "<style scoped>\n",
       "    .dataframe tbody tr th:only-of-type {\n",
       "        vertical-align: middle;\n",
       "    }\n",
       "\n",
       "    .dataframe tbody tr th {\n",
       "        vertical-align: top;\n",
       "    }\n",
       "\n",
       "    .dataframe thead th {\n",
       "        text-align: right;\n",
       "    }\n",
       "</style>\n",
       "<table border=\"1\" class=\"dataframe\">\n",
       "  <thead>\n",
       "    <tr style=\"text-align: right;\">\n",
       "      <th></th>\n",
       "      <th>postcode</th>\n",
       "      <th>name</th>\n",
       "      <th>subBuildingName</th>\n",
       "      <th>buildingName</th>\n",
       "      <th>buildingNumber</th>\n",
       "      <th>thoroughfare</th>\n",
       "      <th>street</th>\n",
       "      <th>town</th>\n",
       "      <th>postcode.1</th>\n",
       "      <th>FastestConnector_kW</th>\n",
       "      <th>chargers_count</th>\n",
       "      <th>latitude</th>\n",
       "      <th>longitude</th>\n",
       "      <th>rating</th>\n",
       "    </tr>\n",
       "  </thead>\n",
       "  <tbody>\n",
       "    <tr>\n",
       "      <th>0</th>\n",
       "      <td>AB10 1LU</td>\n",
       "      <td>Gallowgate, Aberdeen (1)</td>\n",
       "      <td>NaN</td>\n",
       "      <td>NaN</td>\n",
       "      <td>NaN</td>\n",
       "      <td>Gallowgate</td>\n",
       "      <td>Gallowgate</td>\n",
       "      <td>Aberdeen</td>\n",
       "      <td>AB10 1LU</td>\n",
       "      <td>50.0</td>\n",
       "      <td>5</td>\n",
       "      <td>57.150830</td>\n",
       "      <td>-2.098296</td>\n",
       "      <td>4.550000</td>\n",
       "    </tr>\n",
       "    <tr>\n",
       "      <th>1</th>\n",
       "      <td>AB10 7BA</td>\n",
       "      <td>Aberdeen Snowsports Centre</td>\n",
       "      <td>NaN</td>\n",
       "      <td>NaN</td>\n",
       "      <td>77</td>\n",
       "      <td>Garthdee Road</td>\n",
       "      <td>NaN</td>\n",
       "      <td>Aberdeen</td>\n",
       "      <td>AB10 7BA</td>\n",
       "      <td>50.0</td>\n",
       "      <td>3</td>\n",
       "      <td>57.121661</td>\n",
       "      <td>-2.126124</td>\n",
       "      <td>2.333333</td>\n",
       "    </tr>\n",
       "    <tr>\n",
       "      <th>2</th>\n",
       "      <td>AB10 7LN</td>\n",
       "      <td>Broomhill Road, Aberdeen</td>\n",
       "      <td>NaN</td>\n",
       "      <td>NaN</td>\n",
       "      <td>287</td>\n",
       "      <td>Broomhill Road</td>\n",
       "      <td>NaN</td>\n",
       "      <td>Aberdeen</td>\n",
       "      <td>AB10 7LN</td>\n",
       "      <td>50.0</td>\n",
       "      <td>3</td>\n",
       "      <td>57.136221</td>\n",
       "      <td>-2.115193</td>\n",
       "      <td>3.250000</td>\n",
       "    </tr>\n",
       "    <tr>\n",
       "      <th>3</th>\n",
       "      <td>AB12 3JG</td>\n",
       "      <td>Specialist Cars Aberdeen - Nissan</td>\n",
       "      <td>NaN</td>\n",
       "      <td>SHELL REDMOSS</td>\n",
       "      <td>NaN</td>\n",
       "      <td>NaN</td>\n",
       "      <td>Balmoral Business Park</td>\n",
       "      <td>Aberdeen</td>\n",
       "      <td>AB12 3JG</td>\n",
       "      <td>50.0</td>\n",
       "      <td>5</td>\n",
       "      <td>57.109004</td>\n",
       "      <td>-2.095848</td>\n",
       "      <td>2.750000</td>\n",
       "    </tr>\n",
       "    <tr>\n",
       "      <th>4</th>\n",
       "      <td>AB21 9LZ</td>\n",
       "      <td>Lidl - Bucksburn</td>\n",
       "      <td>NaN</td>\n",
       "      <td>NaN</td>\n",
       "      <td>NaN</td>\n",
       "      <td>NaN</td>\n",
       "      <td>Inverurie Road</td>\n",
       "      <td>Aberdeen</td>\n",
       "      <td>AB21 9LZ</td>\n",
       "      <td>50.0</td>\n",
       "      <td>3</td>\n",
       "      <td>57.179293</td>\n",
       "      <td>-2.176260</td>\n",
       "      <td>2.750000</td>\n",
       "    </tr>\n",
       "  </tbody>\n",
       "</table>\n",
       "</div>"
      ],
      "text/plain": [
       "   postcode                               name subBuildingName   buildingName  \\\n",
       "0  AB10 1LU           Gallowgate, Aberdeen (1)             NaN            NaN   \n",
       "1  AB10 7BA         Aberdeen Snowsports Centre             NaN            NaN   \n",
       "2  AB10 7LN           Broomhill Road, Aberdeen             NaN            NaN   \n",
       "3  AB12 3JG  Specialist Cars Aberdeen - Nissan             NaN  SHELL REDMOSS   \n",
       "4  AB21 9LZ                   Lidl - Bucksburn             NaN            NaN   \n",
       "\n",
       "  buildingNumber    thoroughfare                  street      town postcode.1  \\\n",
       "0            NaN      Gallowgate              Gallowgate  Aberdeen   AB10 1LU   \n",
       "1             77   Garthdee Road                     NaN  Aberdeen   AB10 7BA   \n",
       "2            287  Broomhill Road                     NaN  Aberdeen   AB10 7LN   \n",
       "3            NaN             NaN  Balmoral Business Park  Aberdeen   AB12 3JG   \n",
       "4            NaN             NaN          Inverurie Road  Aberdeen   AB21 9LZ   \n",
       "\n",
       "   FastestConnector_kW  chargers_count   latitude  longitude    rating  \n",
       "0                 50.0               5  57.150830  -2.098296  4.550000  \n",
       "1                 50.0               3  57.121661  -2.126124  2.333333  \n",
       "2                 50.0               3  57.136221  -2.115193  3.250000  \n",
       "3                 50.0               5  57.109004  -2.095848  2.750000  \n",
       "4                 50.0               3  57.179293  -2.176260  2.750000  "
      ]
     },
     "execution_count": 941,
     "metadata": {},
     "output_type": "execute_result"
    }
   ],
   "source": [
    "ratings = pd.read_csv('ratings.csv')\n",
    "ratings.head()\n",
    "\n",
    "\n"
   ]
  },
  {
   "cell_type": "code",
   "execution_count": 79,
   "id": "644ace61",
   "metadata": {},
   "outputs": [
    {
     "name": "stdout",
     "output_type": "stream",
     "text": [
      "(200, 4)\n"
     ]
    }
   ],
   "source": [
    "##### take sample\n",
    "sample_ncr = df.sample(n=200, replace=False, random_state=1)\n",
    "sample_ncr = sample_ncr[['latitude', 'longitude', 'FastestConnector_kW', 'chargers_count']]\n",
    "print(sample_ncr.shape)"
   ]
  },
  {
   "cell_type": "code",
   "execution_count": 390,
   "id": "7e560fd7",
   "metadata": {},
   "outputs": [],
   "source": [
    "### input stats from user\n",
    "latlong_first=(0.1278, 51.5074)\n",
    "latlong_destination=(-1.6178, 54.9783)\n",
    "speed_comfort=0.6\n",
    "ev_charge_speed=450\n",
    "max_range=150\n",
    "battery_size=93.4"
   ]
  },
  {
   "cell_type": "code",
   "execution_count": 251,
   "id": "e279d95d",
   "metadata": {},
   "outputs": [
    {
     "data": {
      "text/html": [
       "<div>\n",
       "<style scoped>\n",
       "    .dataframe tbody tr th:only-of-type {\n",
       "        vertical-align: middle;\n",
       "    }\n",
       "\n",
       "    .dataframe tbody tr th {\n",
       "        vertical-align: top;\n",
       "    }\n",
       "\n",
       "    .dataframe thead th {\n",
       "        text-align: right;\n",
       "    }\n",
       "</style>\n",
       "<table border=\"1\" class=\"dataframe\">\n",
       "  <thead>\n",
       "    <tr style=\"text-align: right;\">\n",
       "      <th></th>\n",
       "      <th>latitude</th>\n",
       "      <th>longitude</th>\n",
       "      <th>FastestConnector_kW</th>\n",
       "      <th>chargers_count</th>\n",
       "      <th>lat_long</th>\n",
       "    </tr>\n",
       "    <tr>\n",
       "      <th>postcode</th>\n",
       "      <th></th>\n",
       "      <th></th>\n",
       "      <th></th>\n",
       "      <th></th>\n",
       "      <th></th>\n",
       "    </tr>\n",
       "  </thead>\n",
       "  <tbody>\n",
       "    <tr>\n",
       "      <th>SE15 5HW</th>\n",
       "      <td>51.471632</td>\n",
       "      <td>-0.066631</td>\n",
       "      <td>3.7</td>\n",
       "      <td>1</td>\n",
       "      <td>-0.066631,51.471632</td>\n",
       "    </tr>\n",
       "    <tr>\n",
       "      <th>W12 7BB</th>\n",
       "      <td>51.507640</td>\n",
       "      <td>-0.231780</td>\n",
       "      <td>3.7</td>\n",
       "      <td>1</td>\n",
       "      <td>-0.23178,51.50764</td>\n",
       "    </tr>\n",
       "    <tr>\n",
       "      <th>DN5 0EW</th>\n",
       "      <td>53.551067</td>\n",
       "      <td>-1.147305</td>\n",
       "      <td>50.0</td>\n",
       "      <td>3</td>\n",
       "      <td>-1.147305,53.551067</td>\n",
       "    </tr>\n",
       "    <tr>\n",
       "      <th>IV7 8JU</th>\n",
       "      <td>57.628699</td>\n",
       "      <td>-4.257912</td>\n",
       "      <td>7.0</td>\n",
       "      <td>2</td>\n",
       "      <td>-4.257912,57.628699</td>\n",
       "    </tr>\n",
       "    <tr>\n",
       "      <th>W1H 5HY</th>\n",
       "      <td>51.517638</td>\n",
       "      <td>-0.163856</td>\n",
       "      <td>3.7</td>\n",
       "      <td>1</td>\n",
       "      <td>-0.163856,51.517638</td>\n",
       "    </tr>\n",
       "  </tbody>\n",
       "</table>\n",
       "</div>"
      ],
      "text/plain": [
       "           latitude  longitude  FastestConnector_kW  chargers_count  \\\n",
       "postcode                                                              \n",
       "SE15 5HW  51.471632  -0.066631                  3.7               1   \n",
       "W12 7BB   51.507640  -0.231780                  3.7               1   \n",
       "DN5 0EW   53.551067  -1.147305                 50.0               3   \n",
       "IV7 8JU   57.628699  -4.257912                  7.0               2   \n",
       "W1H 5HY   51.517638  -0.163856                  3.7               1   \n",
       "\n",
       "                     lat_long  \n",
       "postcode                       \n",
       "SE15 5HW  -0.066631,51.471632  \n",
       "W12 7BB     -0.23178,51.50764  \n",
       "DN5 0EW   -1.147305,53.551067  \n",
       "IV7 8JU   -4.257912,57.628699  \n",
       "W1H 5HY   -0.163856,51.517638  "
      ]
     },
     "execution_count": 251,
     "metadata": {},
     "output_type": "execute_result"
    }
   ],
   "source": [
    "sample_ncr.head()"
   ]
  },
  {
   "cell_type": "code",
   "execution_count": 92,
   "id": "73e8c78a",
   "metadata": {},
   "outputs": [
    {
     "data": {
      "text/plain": [
       "latitude               float64\n",
       "longitude              float64\n",
       "FastestConnector_kW    float64\n",
       "chargers_count           int64\n",
       "dtype: object"
      ]
     },
     "execution_count": 92,
     "metadata": {},
     "output_type": "execute_result"
    }
   ],
   "source": [
    "sample_ncr.dtypes"
   ]
  },
  {
   "cell_type": "code",
   "execution_count": 252,
   "id": "6bb70a88",
   "metadata": {},
   "outputs": [
    {
     "data": {
      "text/html": [
       "<div>\n",
       "<style scoped>\n",
       "    .dataframe tbody tr th:only-of-type {\n",
       "        vertical-align: middle;\n",
       "    }\n",
       "\n",
       "    .dataframe tbody tr th {\n",
       "        vertical-align: top;\n",
       "    }\n",
       "\n",
       "    .dataframe thead th {\n",
       "        text-align: right;\n",
       "    }\n",
       "</style>\n",
       "<table border=\"1\" class=\"dataframe\">\n",
       "  <thead>\n",
       "    <tr style=\"text-align: right;\">\n",
       "      <th></th>\n",
       "      <th>latitude</th>\n",
       "      <th>longitude</th>\n",
       "      <th>FastestConnector_kW</th>\n",
       "      <th>chargers_count</th>\n",
       "      <th>lat_long</th>\n",
       "    </tr>\n",
       "    <tr>\n",
       "      <th>postcode</th>\n",
       "      <th></th>\n",
       "      <th></th>\n",
       "      <th></th>\n",
       "      <th></th>\n",
       "      <th></th>\n",
       "    </tr>\n",
       "  </thead>\n",
       "  <tbody>\n",
       "    <tr>\n",
       "      <th>SE15 5HW</th>\n",
       "      <td>51.471632</td>\n",
       "      <td>-0.066631</td>\n",
       "      <td>3.7</td>\n",
       "      <td>1</td>\n",
       "      <td>-0.066631,51.471632</td>\n",
       "    </tr>\n",
       "    <tr>\n",
       "      <th>W12 7BB</th>\n",
       "      <td>51.507640</td>\n",
       "      <td>-0.231780</td>\n",
       "      <td>3.7</td>\n",
       "      <td>1</td>\n",
       "      <td>-0.23178,51.50764</td>\n",
       "    </tr>\n",
       "    <tr>\n",
       "      <th>DN5 0EW</th>\n",
       "      <td>53.551067</td>\n",
       "      <td>-1.147305</td>\n",
       "      <td>50.0</td>\n",
       "      <td>3</td>\n",
       "      <td>-1.147305,53.551067</td>\n",
       "    </tr>\n",
       "    <tr>\n",
       "      <th>IV7 8JU</th>\n",
       "      <td>57.628699</td>\n",
       "      <td>-4.257912</td>\n",
       "      <td>7.0</td>\n",
       "      <td>2</td>\n",
       "      <td>-4.257912,57.628699</td>\n",
       "    </tr>\n",
       "    <tr>\n",
       "      <th>W1H 5HY</th>\n",
       "      <td>51.517638</td>\n",
       "      <td>-0.163856</td>\n",
       "      <td>3.7</td>\n",
       "      <td>1</td>\n",
       "      <td>-0.163856,51.517638</td>\n",
       "    </tr>\n",
       "  </tbody>\n",
       "</table>\n",
       "</div>"
      ],
      "text/plain": [
       "           latitude  longitude  FastestConnector_kW  chargers_count  \\\n",
       "postcode                                                              \n",
       "SE15 5HW  51.471632  -0.066631                  3.7               1   \n",
       "W12 7BB   51.507640  -0.231780                  3.7               1   \n",
       "DN5 0EW   53.551067  -1.147305                 50.0               3   \n",
       "IV7 8JU   57.628699  -4.257912                  7.0               2   \n",
       "W1H 5HY   51.517638  -0.163856                  3.7               1   \n",
       "\n",
       "                     lat_long  \n",
       "postcode                       \n",
       "SE15 5HW  -0.066631,51.471632  \n",
       "W12 7BB     -0.23178,51.50764  \n",
       "DN5 0EW   -1.147305,53.551067  \n",
       "IV7 8JU   -4.257912,57.628699  \n",
       "W1H 5HY   -0.163856,51.517638  "
      ]
     },
     "execution_count": 252,
     "metadata": {},
     "output_type": "execute_result"
    }
   ],
   "source": [
    "# adding concatenated column \n",
    "sample_ncr['lat_long'] = sample_ncr['latitude'].astype('str') + ',' + sample_ncr['longitude'].astype('str')\n",
    "sample_ncr['lat_long'] = sample_ncr['longitude'].astype('str') + ',' + sample_ncr['latitude'].astype('str')\n",
    "\n",
    "sample_ncr.head()\n"
   ]
  },
  {
   "cell_type": "code",
   "execution_count": 396,
   "id": "53d0d00d",
   "metadata": {},
   "outputs": [],
   "source": [
    "# making OSRM query string\n",
    "for_query = sample_ncr['lat_long'][:97]\n",
    "latlong_text_for_query = for_query.str.cat(sep=';')"
   ]
  },
  {
   "cell_type": "code",
   "execution_count": 397,
   "id": "1dd0cf58",
   "metadata": {},
   "outputs": [
    {
     "name": "stdout",
     "output_type": "stream",
     "text": [
      "0.1278,51.5074\n",
      "1.6178,54.9783\n"
     ]
    }
   ],
   "source": [
    "# adding start and destination points\n",
    "# latlong_first\n",
    "latlong_first_string = ','.join([str(x) for x in latlong_first])\n",
    "latlong_destination_string = ','.join([str(x) for x in latlong_destination])\n",
    "print(latlong_first_string)\n",
    "print(latlong_destination_string)"
   ]
  },
  {
   "cell_type": "code",
   "execution_count": 398,
   "id": "738b3677",
   "metadata": {},
   "outputs": [
    {
     "data": {
      "text/plain": [
       "'0.0.0.0:5000/table/v1/driving/0.1278,51.5074;1.6178,54.9783;-0.066631,51.471632;-0.23178,51.50764;-1.147305,53.551067;-4.257912,57.628699;-0.163856,51.517638;-0.18380342857142856,51.116901857142864;-0.526424,52.025932499999996;-0.017642,51.585331;-0.47859850000000004,52.1122345;-0.14007,51.518602;-0.194467,51.517064;-0.278134,51.564362;-0.160699,51.464208;-1.355457,50.925815;-4.214732,55.93718;-2.532173,53.490168;-1.317208,52.076932;-0.140151,51.523643;-0.336516,51.581872;-0.14607399999999998,51.572894;-4.071882,50.390999;-0.218401,51.47282;-1.85969,53.72722;-0.174,50.834;-0.291509,51.470404;-1.745023,54.713454;-0.188547,51.486173;-0.195314,51.50558;-1.47262,53.360998;-2.608084,51.460156;-0.184985,51.491823;-0.21311750000000002,51.461778;-0.2544,51.513984;-0.592181,51.510645;-0.21457,51.490183;-0.243637,51.503346;-0.192513,51.518229;-1.061004,50.795488;1.2800476666666667,52.059048;-3.576534,51.534361;-1.503936,52.217793;-3.334746,57.721317;-0.181651,51.693485;-0.163056,51.549358;-1.214844,51.738103;-2.542869,51.514503500000004;-0.173585,51.484162;-0.091386,51.544642499999995;-3.062336,53.289391;-3.561223,56.182954;-0.15945800000000002,51.156991;-0.285,51.555599;-0.397104,51.677944;0.022578,51.479175;-0.155952,51.542762;0.14732,51.465701;-2.7937735,54.028009;-2.4779590000000002,51.2861175;-1.878325,50.881019;-1.284787,50.693321;0.37444,51.441351;-0.125129,51.430613;-0.27827,52.593843;-2.746318,53.760574;-0.1801785,51.52433275;-0.285265,51.47564500000001;-0.43777,51.331229;-2.36549,53.30021;0.2847,50.769800000000004;-0.335491,51.472115;-0.106167,51.541396;-0.03039,53.558719;-2.271245,53.483067500000004;0.14230333333333334,51.45759933333333;-2.996805,56.194028;-1.31365,51.066599999999994;-0.789851,54.13944;-1.083173,51.262948;-0.166722,51.556106;-2.250178,55.652136;-0.9455994999999999,50.852475999999996;-3.37835,51.73789;1.382878,52.830692;-0.101994,51.50187;-2.498436,51.571359;-0.180175,53.588909;-0.2847665,51.479412499999995;-0.208851,51.475492;-0.1337095,51.429495;-1.4186412,55.001906399999996;-1.063982,50.904484;-2.3242480000000003,51.37901300000001;-0.4697,51.428699;-1.500539,55.10932300000001;-1.2344026086956525,52.763684695652174;-0.209203,51.52605;-1.522231,55.031194'"
      ]
     },
     "execution_count": 398,
     "metadata": {},
     "output_type": "execute_result"
    }
   ],
   "source": [
    "full_query_text = '0.0.0.0:5000/table/v1/driving/' + latlong_first_string + ';' + latlong_destination_string + ';' +latlong_text_for_query\n",
    "full_query_text"
   ]
  },
  {
   "cell_type": "code",
   "execution_count": 399,
   "id": "802fc5bd",
   "metadata": {},
   "outputs": [
    {
     "name": "stdout",
     "output_type": "stream",
     "text": [
      "2.635348081588745\n"
     ]
    }
   ],
   "source": [
    "# make query to OSRM using curl\n",
    "start_time = time.time()\n",
    "result = os.popen(\"curl '\" + full_query_text + \"'\").read()\n",
    "end_time = time.time()\n",
    "print(end_time - start_time)"
   ]
  },
  {
   "cell_type": "code",
   "execution_count": 378,
   "id": "5e4eef86",
   "metadata": {},
   "outputs": [],
   "source": [
    "\n",
    "#location_df = pd.DataFrame.from_dict(json.loads(result)['durations'])\n",
    "#location_df[['lat','long']] = pd.DataFrame(location_df.location.tolist(), index= location_df.index)\n",
    "#location_df = location_df[['lat','long']]"
   ]
  },
  {
   "cell_type": "code",
   "execution_count": 379,
   "id": "5bf01569",
   "metadata": {},
   "outputs": [],
   "source": [
    "#location_df"
   ]
  },
  {
   "cell_type": "code",
   "execution_count": 387,
   "id": "b83a7707",
   "metadata": {},
   "outputs": [
    {
     "data": {
      "text/plain": [
       "200"
      ]
     },
     "execution_count": 387,
     "metadata": {},
     "output_type": "execute_result"
    }
   ],
   "source": [
    "#ix = location_df.long==54.9783\n",
    "\n",
    "#print(len(location_df.sort_values(by='lat')['lat'].tolist()))\n",
    "\n",
    "#latlong_destination=(54.9783, 1.6178)\n"
   ]
  },
  {
   "cell_type": "code",
   "execution_count": 400,
   "id": "fdb76fea",
   "metadata": {},
   "outputs": [
    {
     "data": {
      "text/plain": [
       "(99, 99)"
      ]
     },
     "execution_count": 400,
     "metadata": {},
     "output_type": "execute_result"
    }
   ],
   "source": [
    "## process OSRM output to np array\n",
    "travel_time_matrix = json.loads(result)['durations']\n",
    "travel_time_matrix = np.asarray(travel_time_matrix)\n",
    "travel_time_matrix.shape"
   ]
  },
  {
   "cell_type": "code",
   "execution_count": 401,
   "id": "e0922765",
   "metadata": {},
   "outputs": [
    {
     "data": {
      "text/plain": [
       "array([[    0. , 17598.2,  1615.5, ...,  9734.3,  3175.1, 20152.8],\n",
       "       [17537. ,     0. , 17793.2, ...,  9573.5, 16527.1,  8910.7],\n",
       "       [ 1630.4, 17829. ,     0. , ...,  9126.4,  1912.2, 20383.6],\n",
       "       ...,\n",
       "       [ 9705. ,  9587.3,  9038.4, ...,     0. ,  7692.9, 11867.4],\n",
       "       [ 3168.8, 16550.5,  1861.2, ...,  7733.2,     0. , 19017.8],\n",
       "       [19960.6,  8778.6, 20216.8, ..., 11755. , 18896.4,     0. ]])"
      ]
     },
     "execution_count": 401,
     "metadata": {},
     "output_type": "execute_result"
    }
   ],
   "source": [
    "# look at the travel time matrix\n",
    "travel_time_matrix"
   ]
  },
  {
   "cell_type": "code",
   "execution_count": 413,
   "id": "93245720",
   "metadata": {},
   "outputs": [
    {
     "name": "stdout",
     "output_type": "stream",
     "text": [
      "0.05782604217529297\n",
      "240.5699375\n",
      "17598.2\n"
     ]
    }
   ],
   "source": [
    "# get travel distance from start to end if direct route\n",
    "\n",
    "full_query_text = '0.0.0.0:5000/route/v1/driving/' + latlong_first_string + ';' + latlong_destination_string + '?overview=false'\n",
    "start_time = time.time()\n",
    "result = os.popen(\"curl '\" + full_query_text + \"'\").read()\n",
    "end_time = time.time()\n",
    "print(end_time - start_time)\n",
    "\n",
    "distance_start_to_end_miles = json.loads(result)['routes'][0]['legs'][0]['distance'] / 1600\n",
    "start_to_end_direct_seconds = json.loads(result)['routes'][0]['legs'][0]['duration']\n",
    "print(distance_start_to_end_miles)\n",
    "print(start_to_end_direct_seconds)"
   ]
  },
  {
   "cell_type": "code",
   "execution_count": 409,
   "id": "a7c1a82a",
   "metadata": {},
   "outputs": [
    {
     "data": {
      "text/plain": [
       "(99, 99)"
      ]
     },
     "execution_count": 409,
     "metadata": {},
     "output_type": "execute_result"
    }
   ],
   "source": [
    "# getting distances matrix (rather than durations - we need both distances and durations!)\n",
    "full_query_text_distances = '0.0.0.0:5000/table/v1/driving/' + latlong_first_string + ';' + latlong_destination_string + ';' +latlong_text_for_query + '?annotations=distance'\n",
    "\n",
    "result = os.popen(\"curl '\" + full_query_text_distances + \"'\").read()\n",
    "\n",
    "distance_matrix = json.loads(result)['distances']\n",
    "distance_matrix = np.asarray(distance_matrix)\n",
    "distance_matrix = distance_matrix / 1600   # converting from metres to miles\n",
    "distance_matrix.shape"
   ]
  },
  {
   "cell_type": "code",
   "execution_count": 408,
   "id": "5e9b4c21",
   "metadata": {},
   "outputs": [
    {
     "data": {
      "text/plain": [
       "array([[  0.       , 240.8735   ,  10.312625 ,  20.071375 ],\n",
       "       [241.1078125,   0.       , 223.8403125, 219.539125 ],\n",
       "       [ 10.6504375, 234.2093125,   0.       ,   9.2604375],\n",
       "       [ 19.8870625, 220.6801875,   9.280375 ,   0.       ]])"
      ]
     },
     "execution_count": 408,
     "metadata": {},
     "output_type": "execute_result"
    }
   ],
   "source": [
    "distance_matrix[:4,:4]  # view top left"
   ]
  },
  {
   "cell_type": "code",
   "execution_count": 944,
   "id": "5f7fd928",
   "metadata": {},
   "outputs": [
    {
     "data": {
      "text/plain": [
       "array([0.        , 0.        , 0.50574764, 0.81642686, 0.18251245,\n",
       "       0.22049658, 0.65292912, 0.79352663, 0.67554649, 0.62664956,\n",
       "       0.99218098, 0.60877086, 0.12343022, 0.43683725, 0.64375157,\n",
       "       0.29953955, 0.8466674 , 0.96900966, 0.60629451, 0.00437495,\n",
       "       0.10982578, 0.44441117, 0.07650087, 0.36101808, 0.54849469,\n",
       "       0.6518802 , 0.8881903 , 0.09036921, 0.79474424, 0.93241371,\n",
       "       0.32797576, 0.22368859, 0.03951204, 0.87805526, 0.35688846,\n",
       "       0.67234611, 0.89964632, 0.98322551, 0.68105232, 0.79868376,\n",
       "       0.57415641, 0.61078924, 0.60579092, 0.45890295, 0.04505117,\n",
       "       0.15044288, 0.88747213, 0.01519995, 0.16625841, 0.70165158,\n",
       "       0.08593224, 0.49817778, 0.66526988, 0.29064876, 0.38264561,\n",
       "       0.5603951 , 0.08237218, 0.1103282 , 0.39759961, 0.21531457,\n",
       "       0.86035128, 0.44279991, 0.8733989 , 0.67382671, 0.94876239,\n",
       "       0.1007692 , 0.40870499, 0.42203836, 0.17145307, 0.55015079,\n",
       "       0.24086745, 0.77066534, 0.11446062, 0.57002736, 0.70390239,\n",
       "       0.45655353, 0.38119315, 0.78491506, 0.49628564, 0.05317252,\n",
       "       0.99828271, 0.63683376, 0.56503468, 0.3245077 , 0.03085315,\n",
       "       0.04665696, 0.26266928, 0.64288884, 0.56492423, 0.44435392,\n",
       "       0.13689582, 0.75111031, 0.79230327, 0.23639705, 0.18874001,\n",
       "       0.08901955, 0.1340994 , 0.78879944, 0.72161872])"
      ]
     },
     "execution_count": 944,
     "metadata": {},
     "output_type": "execute_result"
    }
   ],
   "source": [
    "# make up tripadvisor ratings as 2d array\n",
    "user_review_ratings = np.append(np.zeros(2), np.random.uniform(0, 1, 97))\n",
    "user_review_ratings"
   ]
  },
  {
   "cell_type": "code",
   "execution_count": 938,
   "id": "83a996a9",
   "metadata": {},
   "outputs": [
    {
     "data": {
      "text/plain": [
       "150"
      ]
     },
     "execution_count": 938,
     "metadata": {},
     "output_type": "execute_result"
    }
   ],
   "source": [
    "# dealing with it if destination is within range of EV\n",
    "if distance_matrix[0,1] < (max_range*0.95):\n",
    "    return('<h1>It looks like you can make the journey without stopping to charge! :)</h1>')\n",
    "    "
   ]
  },
  {
   "cell_type": "code",
   "execution_count": null,
   "id": "437f4d78",
   "metadata": {},
   "outputs": [],
   "source": [
    "# Influence of battery fullness on charge speed:\n",
    "# https://support.fastned.nl/hc/en-gb/articles/205694717-What-determines-the-charge-speed-\n",
    "\n",
    "# Shows steady rate of charge speed up to 70%, then a rapid dropoff"
   ]
  },
  {
   "cell_type": "code",
   "execution_count": null,
   "id": "74702a89",
   "metadata": {
    "scrolled": false
   },
   "outputs": [],
   "source": []
  },
  {
   "cell_type": "code",
   "execution_count": 418,
   "id": "07f67cdd",
   "metadata": {},
   "outputs": [],
   "source": [
    "### Recap all inputs\n",
    "# travel_time_matrix (n + 2 * n + 2)\n",
    "# distance_matrix (n + 2 * n + 2)\n",
    "# user_review_ratings (n+2 * 1)\n",
    "# speed_comfort=0.6\n",
    "# ev_charge_speed (kw)=225\n",
    "# max_range=150\n",
    "# battery_size (kwh) = 93.4\n",
    "# distance_start_to_end_miles = float\n",
    "# start_to_end_direct_seconds = float\n"
   ]
  },
  {
   "cell_type": "code",
   "execution_count": 417,
   "id": "23622b29",
   "metadata": {},
   "outputs": [],
   "source": [
    "### Algo: \n",
    "# make likely journey chunks based on EV range and journey distance\n",
    "# for each chunk: list possible stops for each chunk based on travel distance\n",
    "# then filter them out if they are more than a certain % of the distance to\n",
    "# the end (relative to how far the journey would be if doing it in one go, and \n",
    "# how far the journey of that chunk would be)\n",
    "# when chunk 1 is done, looks for all combinations of chunk 1 going to chunk 2\n",
    "# and filter as appropriate\n",
    "# then chunk 3, etc"
   ]
  },
  {
   "cell_type": "code",
   "execution_count": 419,
   "id": "b5858f55",
   "metadata": {},
   "outputs": [],
   "source": [
    "# checking journet can't be made in one go (adding 1.2 factor to adjust for optimism)\n",
    "if (distance_start_to_end_miles / max_range) < 1.0:\n",
    "    print('Can make journey in one go, so do something with that!')\n",
    "    print('make polyline from just this one')\n"
   ]
  },
  {
   "cell_type": "code",
   "execution_count": 421,
   "id": "cec9700d",
   "metadata": {},
   "outputs": [],
   "source": [
    "# max number of journey chunks. Using 1.3 multiplier as feels about right (more max\n",
    "# chunks means higher performance overall, as more combinations are checked, but takes longer)\n",
    "max_chunks_count = math.ceil((distance_start_to_end_miles * 1.3) / max_range)\n"
   ]
  },
  {
   "cell_type": "code",
   "execution_count": 849,
   "id": "5ce34e65",
   "metadata": {},
   "outputs": [
    {
     "data": {
      "text/plain": [
       "2"
      ]
     },
     "execution_count": 849,
     "metadata": {},
     "output_type": "execute_result"
    }
   ],
   "source": [
    "# dont want too few chunks or might not work for very long distances\n",
    "min_chunks_count =  math.ceil((distance_start_to_end_miles * 0.8) / max_range)\n",
    "min_chunks_count"
   ]
  },
  {
   "cell_type": "code",
   "execution_count": 427,
   "id": "368c6790",
   "metadata": {},
   "outputs": [],
   "source": [
    "\n",
    "# range of journey chunks in miles, then converting to seconds (seconds is what is actually used)\n",
    "max_chunk_range_miles = (distance_start_to_end_miles / max_chunks_count) * 1.5 # close to EV max distance\n",
    "min_chunk_range_miles = (distance_start_to_end_miles / max_chunks_count) * 0.7\n",
    "\n"
   ]
  },
  {
   "cell_type": "code",
   "execution_count": 461,
   "id": "7e1518ee",
   "metadata": {},
   "outputs": [
    {
     "name": "stdout",
     "output_type": "stream",
     "text": [
      "(array([ 8, 10, 15, 18, 25, 39, 40, 42, 46, 61, 64, 70, 77, 79, 82, 92, 94]),)\n"
     ]
    },
    {
     "data": {
      "text/plain": [
       "array([ 8, 10, 15, 18, 25, 39, 40, 42, 46, 61, 64, 70, 77, 79, 82, 92, 94])"
      ]
     },
     "execution_count": 461,
     "metadata": {},
     "output_type": "execute_result"
    }
   ],
   "source": [
    "\n",
    "# find candidates for first chunk\n",
    "chunk_candidates = np.where(np.logical_and(distance_matrix[0,:]>=min_chunk_range_miles, distance_matrix[0,:]<=max_chunk_range_miles))\n",
    "chunk_candidates = chunk_candidates[0]  # gets it to right format\n",
    "chunk_candidates"
   ]
  },
  {
   "cell_type": "code",
   "execution_count": 433,
   "id": "c2dfe1f1",
   "metadata": {},
   "outputs": [
    {
     "data": {
      "text/plain": [
       "array([183.3565   , 175.0666875, 276.9908125, 181.5709375, 299.1444375,\n",
       "       300.421375 , 238.966    , 177.266125 , 215.4975   , 304.9959375,\n",
       "       128.1609375, 289.167625 , 264.7726875, 254.734125 , 298.759    ,\n",
       "       282.2038125, 242.2964375])"
      ]
     },
     "execution_count": 433,
     "metadata": {},
     "output_type": "execute_result"
    }
   ],
   "source": [
    "# use chunk_candidates as ix to get osrm distances\n",
    "dists_travelled = distance_matrix[chunk_candidates, 0]  # distance from start point to candidate\n",
    "dists_to_go = distance_matrix[chunk_candidates, 1]    # distance from end point to candidate\n"
   ]
  },
  {
   "cell_type": "code",
   "execution_count": 492,
   "id": "463c2254",
   "metadata": {},
   "outputs": [],
   "source": [
    "# see if candidate is viable\n",
    "\n",
    "def is_candidate_viable(distance_start_to_end_miles, \n",
    "                        distance_travelled_so_far,\n",
    "                        distance_to_go, \n",
    "                       X_factor = 2):\n",
    "    \"\"\"returns false if the distance covered is much lower than the total gap closed\n",
    "    from the start. \n",
    "    By a factor of X_factor\n",
    "    Inputs are for candidate service stations as part of the chunking process\"\"\"\n",
    "    return (distance_travelled_so_far / (distance_start_to_end_miles - distance_to_go)) > X_factor\n",
    "\n",
    "\n",
    "\n",
    "# line below should return true/false array\n",
    "to_include_ix = is_candidate_viable(distance_start_to_end_miles, dists_travelled, dists_to_go)\n",
    "first_chunk_candidates_accepted = chunk_candidates[to_include_ix]\n",
    "\n",
    "# first chunk step complete\n",
    "\n"
   ]
  },
  {
   "cell_type": "code",
   "execution_count": null,
   "id": "4db74a31",
   "metadata": {},
   "outputs": [],
   "source": []
  },
  {
   "cell_type": "code",
   "execution_count": 954,
   "id": "0d4f136e",
   "metadata": {},
   "outputs": [
    {
     "name": "stdout",
     "output_type": "stream",
     "text": [
      "[10 15 18 25 31 39 40 42 47 57 59 60 61 62 64 70 75 82 86 92 93 96]\n"
     ]
    },
    {
     "data": {
      "text/plain": [
       "array([40, 86])"
      ]
     },
     "execution_count": 954,
     "metadata": {},
     "output_type": "execute_result"
    }
   ],
   "source": [
    "# following chunks: find acceptable points\n",
    "def find_stops_for_chunk(first_chunk_candidates_accepted,\n",
    "                        max_chunk_range_miles,\n",
    "                        min_chunk_range_miles,\n",
    "                        distance_matrix,\n",
    "                        distance_start_to_end_miles):\n",
    "    \n",
    "    # this doesnt consider direction which could be used to filter more aggresively\n",
    "    a = distance_matrix[first_chunk_candidates_accepted,:]>=min_chunk_range_miles\n",
    "    b = distance_matrix[first_chunk_candidates_accepted,:]<=max_chunk_range_miles\n",
    "    chunk_candidates = np.where((a*b)[0])[0]\n",
    "    print(chunk_candidates)\n",
    "\n",
    "    # use chunk_candidates as ix to get osrm distances\n",
    "    dists_travelled = distance_matrix[chunk_candidates, 0]  # distance from start point to candidate\n",
    "    dists_to_go = distance_matrix[chunk_candidates, 1]    # distance from end point to candidate\n",
    "\n",
    "    to_include_ix = is_candidate_viable(distance_start_to_end_miles, dists_travelled, dists_to_go)\n",
    "    chunk_candidates_accepted = chunk_candidates[to_include_ix]\n",
    "    \n",
    "    return chunk_candidates_accepted\n",
    "\n",
    "\n",
    "find_stops_for_chunk(first_chunk_candidates_accepted, \n",
    "                    max_chunk_range_miles,\n",
    "                    min_chunk_range_miles,\n",
    "                    distance_matrix,\n",
    "                    distance_start_to_end_miles)"
   ]
  },
  {
   "cell_type": "code",
   "execution_count": 520,
   "id": "ebd1e478",
   "metadata": {},
   "outputs": [],
   "source": [
    "# process for chunks\n",
    "def get_candidate_stops_each_chunk(chunks_count,\n",
    "                                  distance_matrix,\n",
    "                                  min_chunk_range_miles,\n",
    "                                  max_chunk_range_miles,\n",
    "                                  distance_start_to_end_miles):\n",
    "    \n",
    "    max_chunk_range_miles = (distance_start_to_end_miles / chunks_count) * 1.5 # for few chunk may exceed EV dist\n",
    "    min_chunk_range_miles = (distance_start_to_end_miles / chunks_count) * 0.7\n",
    "\n",
    "\n",
    "    stops_dict_a_chunk = {'chunks_count': chunks_count}\n",
    "\n",
    "    # get chunk for first stop\n",
    "    chunk_candidates = np.where(np.logical_and(distance_matrix[0,:]>=min_chunk_range_miles, distance_matrix[0,:]<=max_chunk_range_miles))\n",
    "    chunk_candidates = chunk_candidates[0]  # gets it to right format\n",
    "\n",
    "    dists_travelled = distance_matrix[chunk_candidates, 0]  # distance from start point to candidate\n",
    "    dists_to_go = distance_matrix[chunk_candidates, 1]    # distance from end point to candidate\n",
    "\n",
    "    to_include_ix = is_candidate_viable(distance_start_to_end_miles, dists_travelled, dists_to_go)\n",
    "    current_chunk_candidates_accepted = chunk_candidates[to_include_ix]\n",
    "    stops_dict_a_chunk['chunk1'] = current_chunk_candidates_accepted\n",
    "\n",
    "\n",
    "    # get chunks for stops 2 and over\n",
    "    for i in range(2,chunks_count):\n",
    "        current_chunk_candidates_accepted = find_stops_for_chunk(current_chunk_candidates_accepted, \n",
    "                        max_chunk_range_miles,\n",
    "                        min_chunk_range_miles,\n",
    "                        distance_matrix,\n",
    "                        distance_start_to_end_miles)\n",
    "\n",
    "        stops_dict_a_chunk['chunk' + str(i)] = current_chunk_candidates_accepted\n",
    "\n",
    "    return stops_dict_a_chunk"
   ]
  },
  {
   "cell_type": "code",
   "execution_count": 521,
   "id": "d2f682fc",
   "metadata": {},
   "outputs": [],
   "source": [
    "# looping through chunk counts to get all possible chunks\n",
    "all_chunk_candidates_dict = {}\n",
    "for chunks_count in range(2, max_chunks_count+1):\n",
    "\n",
    "    all_chunk_candidates_dict[chunks_count] = get_candidate_stops_each_chunk(chunks_count,\n",
    "                                      distance_matrix,\n",
    "                                      min_chunk_range_miles,\n",
    "                                      max_chunk_range_miles,\n",
    "                                      distance_start_to_end_miles)"
   ]
  },
  {
   "cell_type": "code",
   "execution_count": 522,
   "id": "d18168a4",
   "metadata": {},
   "outputs": [
    {
     "data": {
      "text/plain": [
       "{2: {'chunks_count': 2, 'chunk1': array([84, 86])},\n",
       " 3: {'chunks_count': 3,\n",
       "  'chunk1': array([40, 46]),\n",
       "  'chunk2': array([35, 54, 84])}}"
      ]
     },
     "execution_count": 522,
     "metadata": {},
     "output_type": "execute_result"
    }
   ],
   "source": [
    "all_chunk_candidates_dict"
   ]
  },
  {
   "cell_type": "code",
   "execution_count": null,
   "id": "e0c4d934",
   "metadata": {},
   "outputs": [],
   "source": []
  },
  {
   "cell_type": "code",
   "execution_count": 859,
   "id": "4dbdf0f9",
   "metadata": {},
   "outputs": [],
   "source": [
    "# storing arrays of all possible values in a dict\n",
    "all_possibilities_dict = {}\n",
    "\n",
    "\n",
    "# for 1-stop\n",
    "vals = all_chunk_candidates_dict[2]['chunk1']\n",
    "all_possibilities_dict['one_chunk'] = np.array(np.meshgrid([0], vals, [1])).T.reshape(-1,3)\n",
    "# adding 1 columns\n",
    "for i in range(2, max_chunks_count):\n",
    "    all_possibilities_dict['one_chunk'] = np.c_[ all_possibilities_dict['one_chunk'], np.ones(len(all_possibilities_dict['one_chunk'] )) ]   \n",
    "\n",
    "# for 2 stops\n",
    "if max_chunks_count >= 3:\n",
    "    vals = all_chunk_candidates_dict[3]['chunk1']\n",
    "    vals2 = all_chunk_candidates_dict[3]['chunk2']\n",
    "    all_possibilities_dict['two_chunk'] = np.array(np.meshgrid([0], vals, vals2, [1])).T.reshape(-1, 4)\n",
    "    for i in range(3, max_chunks_count):\n",
    "        all_possibilities_dict['one_chunk'] = np.c_[ all_possibilities_dict['one_chunk'], np.ones(len(all_possibilities_dict['one_chunk'] )) ]   \n",
    "\n",
    "\n",
    "# 3 stops \n",
    "if max_chunks_count >= 4:\n",
    "    vals = all_chunk_candidates_dict[4]['chunk1']\n",
    "    vals2 = all_chunk_candidates_dict[4]['chunk2']\n",
    "    vals3 = all_chunk_candidates_dict[4]['chunk3']\n",
    "    all_possibilities_dict['three_chunk'] = np.array(np.meshgrid([0], vals, vals2,vals3, [1])).T.reshape(-1, 5)\n",
    "    for i in range(4, max_chunks_count):\n",
    "        all_possibilities_dict['one_chunk'] = np.c_[ all_possibilities_dict['one_chunk'], np.ones(len(all_possibilities_dict['one_chunk'] )) ]   \n",
    "\n",
    "    \n",
    "# 4 stops\n",
    "if max_chunks_count >= 5:\n",
    "    vals = all_chunk_candidates_dict[5]['chunk1']\n",
    "    vals2 = all_chunk_candidates_dict[5]['chunk2']\n",
    "    vals3 = all_chunk_candidates_dict[5]['chunk3']\n",
    "    vals4 = all_chunk_candidates_dict[5]['chunk4']\n",
    "    all_possibilities_dict['four_chunk'] = np.array(np.meshgrid([0], vals, vals2,vals3,vals4 [1])).T.reshape(-1, 6)\n",
    "    for i in range(5, max_chunks_count):\n",
    "        all_possibilities_dict['one_chunk'] = np.c_[ all_possibilities_dict['one_chunk'], np.ones(len(all_possibilities_dict['one_chunk'] )) ]   \n",
    "\n",
    "    \n",
    "if max_chunks_count >= 6:\n",
    "    print('sorry,not set up for 5 stops or more :(')"
   ]
  },
  {
   "cell_type": "code",
   "execution_count": 860,
   "id": "f524eaa6",
   "metadata": {},
   "outputs": [
    {
     "data": {
      "text/plain": [
       "{'one_chunk': array([[ 0., 84.,  1.,  1.],\n",
       "        [ 0., 86.,  1.,  1.]]),\n",
       " 'two_chunk': array([[ 0, 40, 35,  1],\n",
       "        [ 0, 46, 35,  1],\n",
       "        [ 0, 40, 54,  1],\n",
       "        [ 0, 46, 54,  1],\n",
       "        [ 0, 40, 84,  1],\n",
       "        [ 0, 46, 84,  1]])}"
      ]
     },
     "execution_count": 860,
     "metadata": {},
     "output_type": "execute_result"
    }
   ],
   "source": [
    "all_possibilities_dict"
   ]
  },
  {
   "cell_type": "code",
   "execution_count": 861,
   "id": "8a5180bd",
   "metadata": {},
   "outputs": [
    {
     "data": {
      "text/plain": [
       "{'one_chunk': array([[ 0., 84.,  1.,  1.],\n",
       "        [ 0., 86.,  1.,  1.]]),\n",
       " 'two_chunk': array([[ 0, 40, 35,  1],\n",
       "        [ 0, 46, 35,  1],\n",
       "        [ 0, 40, 54,  1],\n",
       "        [ 0, 46, 54,  1],\n",
       "        [ 0, 40, 84,  1],\n",
       "        [ 0, 46, 84,  1]])}"
      ]
     },
     "execution_count": 861,
     "metadata": {},
     "output_type": "execute_result"
    }
   ],
   "source": [
    "# remove chunks which fall below the min_chunks_count\n",
    "min_chunks_count_counter = min_chunks_count\n",
    "\n",
    "lookup_dict = {3:'one', 4:'two', 5:'three', 6:'four', 7:'five'}\n",
    "\n",
    "while min_chunks_count_counter >= 3:\n",
    "    key_to_pop = lookup_dict[min_chunks_count_counter] + '_chunk'\n",
    "    all_possibilities_dict.pop(key_to_pop, None)\n",
    "    \n",
    "    min_chunks_count_counter = min_chunks_count_counter - 1\n"
   ]
  },
  {
   "cell_type": "code",
   "execution_count": 588,
   "id": "8a3cdbea",
   "metadata": {},
   "outputs": [
    {
     "data": {
      "text/plain": [
       "array([[ 0, 84,  1,  1],\n",
       "       [ 0, 86,  1,  1],\n",
       "       [ 0, 40, 35,  1],\n",
       "       [ 0, 46, 35,  1]])"
      ]
     },
     "execution_count": 588,
     "metadata": {},
     "output_type": "execute_result"
    }
   ],
   "source": [
    "# convert dict into single array\n",
    "journeys = all_possibilities_dict['one_chunk']\n",
    "for key in all_possibilities_dict.keys():\n",
    "    if key != 'one_chunk':\n",
    "        journeys = np.r_[ journeys,all_possibilities_dict[key] ] \n",
    "\n",
    "journeys = journeys.astype('int')\n",
    "journeys[:4,:4]"
   ]
  },
  {
   "cell_type": "code",
   "execution_count": 742,
   "id": "2776e2ac",
   "metadata": {},
   "outputs": [
    {
     "data": {
      "text/plain": [
       "array([[10265.6, 15494.6,     0. ],\n",
       "       [11063.9, 16835.9,     0. ],\n",
       "       [ 5753.1,  7764. , 16764.6],\n",
       "       [ 6941.4,  3152.9, 16764.6],\n",
       "       [ 5753.1,  6404.7, 15378.1],\n",
       "       [ 6941.4,  3591.4, 15378.1],\n",
       "       [ 5753.1,  5997.2, 15494.6],\n",
       "       [ 6941.4, 12378.6, 15494.6]])"
      ]
     },
     "execution_count": 742,
     "metadata": {},
     "output_type": "execute_result"
    }
   ],
   "source": [
    "# get array input for journey times up to 5 journeys (4 stops). Empty will be 1's as 1 is endpoint\n",
    "journey_times = np.zeros((journeys.shape[0], journeys.shape[1] - 1))\n",
    "for i in range(journey_times.shape[1]):\n",
    "    journey_times[:,i] = travel_time_matrix[journeys[:, i], journeys[:, i+1]]\n",
    "\n",
    "journey_times"
   ]
  },
  {
   "cell_type": "code",
   "execution_count": 647,
   "id": "8c1c0fb1",
   "metadata": {},
   "outputs": [
    {
     "data": {
      "text/plain": [
       "(8, 3)"
      ]
     },
     "execution_count": 647,
     "metadata": {},
     "output_type": "execute_result"
    }
   ],
   "source": [
    "journey_distances = np.zeros((journeys.shape[0], journeys.shape[1] - 1))\n",
    "for i in range(journey_distances.shape[1]):\n",
    "    journey_distances[:,i] = distance_matrix[journeys[:, i], journeys[:, i+1]]\n",
    "\n",
    "journey_distances.shape"
   ]
  },
  {
   "cell_type": "code",
   "execution_count": 665,
   "id": "994bcae1",
   "metadata": {},
   "outputs": [],
   "source": [
    "# calc charging times using NCR and car kW \n",
    "\n",
    "# original data gets made from sample_ncr. Will change to fit algo 1's contribution\n",
    "a = np.asarray([99999999,99999999]).astype('int')\n",
    "b = np.asarray(sample_ncr.FastestConnector_kW[:97]).astype('int')\n",
    "charge_speeds = np.concatenate([a, b])\n",
    "charge_speeds = np.minimum(charge_speeds, [ev_charge_speed])  # accounting for car charging speed\n",
    "\n",
    "\n"
   ]
  },
  {
   "cell_type": "code",
   "execution_count": null,
   "id": "52d2de3f",
   "metadata": {},
   "outputs": [],
   "source": []
  },
  {
   "cell_type": "code",
   "execution_count": null,
   "id": "7c9dcf5e",
   "metadata": {},
   "outputs": [],
   "source": []
  },
  {
   "cell_type": "code",
   "execution_count": 743,
   "id": "217ab7c4",
   "metadata": {},
   "outputs": [
    {
     "data": {
      "text/plain": [
       "array([[ 50., 450.],\n",
       "       [ 50., 450.],\n",
       "       [  7.,  50.],\n",
       "       [  3.,  50.],\n",
       "       [  7.,   7.],\n",
       "       [  3.,   7.],\n",
       "       [  7.,  50.],\n",
       "       [  3.,  50.]])"
      ]
     },
     "execution_count": 743,
     "metadata": {},
     "output_type": "execute_result"
    }
   ],
   "source": [
    "# matrix of charging speeds\n",
    "charge_speeds_all_stops = np.zeros((journeys.shape[0], journeys.shape[1] - 2))\n",
    "for i in range(charge_speeds_all_stops.shape[0]):\n",
    "    for j in range(charge_speeds_all_stops.shape[1]):\n",
    "        charge_speeds_all_stops[i,j] = charge_speeds[ journeys[i, j+1]]\n",
    "\n",
    "charge_speeds_all_stops"
   ]
  },
  {
   "cell_type": "code",
   "execution_count": 744,
   "id": "447d80bd",
   "metadata": {},
   "outputs": [
    {
     "name": "stdout",
     "output_type": "stream",
     "text": [
      "1\n",
      "2\n"
     ]
    }
   ],
   "source": [
    "charge_times_all_stops = np.zeros((journeys.shape[0], journeys.shape[1] - 2))\n",
    "\n",
    "for stop_count in range(1, charge_speeds_all_stops.shape[1]+1):\n",
    "    print(stop_count)\n",
    "    charge_left = np.maximum(max_range - journey_distances[:,stop_count-1], [0])\n",
    "    charge_needed = np.maximum(journey_distances[:,stop_count] - charge_left, [0])\n",
    "    hours_to_charge = (charge_needed / max_range) * battery_size / charge_speeds_all_stops[:,stop_count-1]\n",
    "    charge_times_all_stops[:, stop_count-1] = hours_to_charge"
   ]
  },
  {
   "cell_type": "code",
   "execution_count": null,
   "id": "7792408e",
   "metadata": {},
   "outputs": [],
   "source": []
  },
  {
   "cell_type": "code",
   "execution_count": 745,
   "id": "6b0b8034",
   "metadata": {},
   "outputs": [],
   "source": [
    "# niceness\n",
    "quality_all_stops = np.zeros((journeys.shape[0], journeys.shape[1] - 2))\n",
    "\n",
    "for stop_count in range(1, charge_speeds_all_stops.shape[1]+1):\n",
    "    quality_all_stops[:,stop_count-1] = user_review_ratings[journeys[:, stop_count]]"
   ]
  },
  {
   "cell_type": "code",
   "execution_count": 749,
   "id": "fa20fa61",
   "metadata": {},
   "outputs": [],
   "source": [
    "# journey-level stats for final calculation\n",
    "journey_niceness_weighted_avg = np.average(quality_all_stops, axis=1, weights=charge_times_all_stops)\n",
    "total_charge_time = np.sum(charge_times_all_stops, axis= 1)\n",
    "total_journey_time = np.sum(journey_times, axis= 1) / 3600\n",
    "\n"
   ]
  },
  {
   "cell_type": "code",
   "execution_count": 826,
   "id": "85d97dbc",
   "metadata": {},
   "outputs": [],
   "source": [
    "# overall scores: is sensitive to the multiplier below\n",
    "sensitive_multiplier=3\n",
    "score = (total_charge_time*journey_niceness_weighted_avg*speed_comfort*sensitive_multiplier)-total_journey_time-total_charge_time \n",
    "best_journey_pos = np.argmax(score)\n",
    "best_journey = journeys[best_journey_pos]\n"
   ]
  },
  {
   "cell_type": "code",
   "execution_count": 812,
   "id": "4402a8b8",
   "metadata": {},
   "outputs": [
    {
     "data": {
      "text/plain": [
       "(1.6178, 54.9783)"
      ]
     },
     "execution_count": 812,
     "metadata": {},
     "output_type": "execute_result"
    }
   ],
   "source": [
    "latlong_first\n",
    "latlong_destination"
   ]
  },
  {
   "cell_type": "code",
   "execution_count": 813,
   "id": "14d470a0",
   "metadata": {},
   "outputs": [
    {
     "data": {
      "text/html": [
       "<div>\n",
       "<style scoped>\n",
       "    .dataframe tbody tr th:only-of-type {\n",
       "        vertical-align: middle;\n",
       "    }\n",
       "\n",
       "    .dataframe tbody tr th {\n",
       "        vertical-align: top;\n",
       "    }\n",
       "\n",
       "    .dataframe thead th {\n",
       "        text-align: right;\n",
       "    }\n",
       "</style>\n",
       "<table border=\"1\" class=\"dataframe\">\n",
       "  <thead>\n",
       "    <tr style=\"text-align: right;\">\n",
       "      <th></th>\n",
       "      <th>name</th>\n",
       "      <th>latitude</th>\n",
       "      <th>longitude</th>\n",
       "    </tr>\n",
       "  </thead>\n",
       "  <tbody>\n",
       "    <tr>\n",
       "      <th>0</th>\n",
       "      <td>start</td>\n",
       "      <td>51.5074</td>\n",
       "      <td>0.1278</td>\n",
       "    </tr>\n",
       "    <tr>\n",
       "      <th>1</th>\n",
       "      <td>end</td>\n",
       "      <td>54.9783</td>\n",
       "      <td>1.6178</td>\n",
       "    </tr>\n",
       "  </tbody>\n",
       "</table>\n",
       "</div>"
      ],
      "text/plain": [
       "    name  latitude  longitude\n",
       "0  start   51.5074     0.1278\n",
       "1    end   54.9783     1.6178"
      ]
     },
     "execution_count": 813,
     "metadata": {},
     "output_type": "execute_result"
    }
   ],
   "source": [
    "# formatting for start/end too\n",
    "to_add = pd.DataFrame({'name': ['start', 'end'],\n",
    "             'latitude': [latlong_first[1], latlong_destination[1]],\n",
    "                      'longitude': [latlong_first[0], latlong_destination[0]]})\n",
    "to_add"
   ]
  },
  {
   "cell_type": "code",
   "execution_count": 814,
   "id": "0a5cca5c",
   "metadata": {},
   "outputs": [
    {
     "data": {
      "text/html": [
       "<div>\n",
       "<style scoped>\n",
       "    .dataframe tbody tr th:only-of-type {\n",
       "        vertical-align: middle;\n",
       "    }\n",
       "\n",
       "    .dataframe tbody tr th {\n",
       "        vertical-align: top;\n",
       "    }\n",
       "\n",
       "    .dataframe thead th {\n",
       "        text-align: right;\n",
       "    }\n",
       "</style>\n",
       "<table border=\"1\" class=\"dataframe\">\n",
       "  <thead>\n",
       "    <tr style=\"text-align: right;\">\n",
       "      <th></th>\n",
       "      <th>name</th>\n",
       "      <th>latitude</th>\n",
       "      <th>longitude</th>\n",
       "    </tr>\n",
       "  </thead>\n",
       "  <tbody>\n",
       "    <tr>\n",
       "      <th>0</th>\n",
       "      <td>start</td>\n",
       "      <td>51.507400</td>\n",
       "      <td>0.127800</td>\n",
       "    </tr>\n",
       "    <tr>\n",
       "      <th>OX4 2ED</th>\n",
       "      <td>aaa</td>\n",
       "      <td>51.738103</td>\n",
       "      <td>-1.214844</td>\n",
       "    </tr>\n",
       "    <tr>\n",
       "      <th>NR28 0AW</th>\n",
       "      <td>aaa</td>\n",
       "      <td>52.830692</td>\n",
       "      <td>1.382878</td>\n",
       "    </tr>\n",
       "    <tr>\n",
       "      <th>1</th>\n",
       "      <td>end</td>\n",
       "      <td>54.978300</td>\n",
       "      <td>1.617800</td>\n",
       "    </tr>\n",
       "  </tbody>\n",
       "</table>\n",
       "</div>"
      ],
      "text/plain": [
       "           name   latitude  longitude\n",
       "0         start  51.507400   0.127800\n",
       "OX4 2ED     aaa  51.738103  -1.214844\n",
       "NR28 0AW    aaa  52.830692   1.382878\n",
       "1           end  54.978300   1.617800"
      ]
     },
     "execution_count": 814,
     "metadata": {},
     "output_type": "execute_result"
    }
   ],
   "source": [
    "# extracting winning journey coords and service stat names\n",
    "sample_ncr['name'] = 'aaa'\n",
    "sample_ncr2 = to_add.append(sample_ncr[['name', 'latitude','longitude']])\n",
    "\n",
    "output_results = sample_ncr2.iloc[best_journey,]\n",
    "output_results"
   ]
  },
  {
   "cell_type": "code",
   "execution_count": null,
   "id": "6cf1c1eb",
   "metadata": {},
   "outputs": [],
   "source": []
  },
  {
   "cell_type": "code",
   "execution_count": 816,
   "id": "53678db6",
   "metadata": {},
   "outputs": [],
   "source": [
    "# get polylines for winning journey\n",
    "polyline_dict = {}\n",
    "for i in range(len(output_results)-1):\n",
    "    pair1 = output_results.iloc[i,:]['longitude'].astype('str') + ',' + output_results.iloc[i,:]['latitude'].astype('str')\n",
    "    pair2 = output_results.iloc[i+1,:]['longitude'].astype('str') + ',' + output_results.iloc[i+1,:]['latitude'].astype('str')\n",
    "    \n",
    "    url_for_polylines = '0.0.0.0:5000/route/v1/car/' + pair1 + ';' + pair2\n",
    "    response = os.popen(\"curl '\" + url_for_polylines + \"'\").read()\n",
    "    json_data = json.loads(response)\n",
    "    poly_out = json_data[\"routes\"][0][\"geometry\"]\n",
    "    polyline_dict[i] = polyline.decode(poly_out)    # polyline to coordinates\n"
   ]
  },
  {
   "cell_type": "code",
   "execution_count": 878,
   "id": "d53a92ee",
   "metadata": {},
   "outputs": [
    {
     "name": "stdout",
     "output_type": "stream",
     "text": [
      "0\n",
      "1\n",
      "2\n"
     ]
    }
   ],
   "source": [
    "polyline_array = []\n",
    "keys = polyline_dict.keys()\n",
    "for key in polyline_dict:\n",
    "    polyline_array.extend(polyline_dict[key])"
   ]
  },
  {
   "cell_type": "code",
   "execution_count": 892,
   "id": "e9cd2e95",
   "metadata": {},
   "outputs": [],
   "source": [
    "destination_names = output_results.name[1:len(output_results)-1]\n",
    "destination_names.reset_index(drop=True, inplace=True)\n",
    "destination_names  = destination_names.tolist()\n",
    "pcodes = output_results.index[1:len(output_results)-1]\n",
    "pcodes = pcodes.tolist()\n",
    "\n"
   ]
  },
  {
   "cell_type": "code",
   "execution_count": null,
   "id": "655a3600",
   "metadata": {},
   "outputs": [],
   "source": []
  },
  {
   "cell_type": "code",
   "execution_count": 882,
   "id": "7c10a3ba",
   "metadata": {},
   "outputs": [],
   "source": [
    "#### outputs\n",
    "polyline_array\n",
    "output_results   # table of results\n",
    "hrs_driving = total_journey_time[best_journey_pos]\n",
    "total_miles = np.sum(journey_distances, axis=1)[best_journey_pos]\n",
    "time_charging = total_charge_time[best_journey_pos]\n",
    "journey_niceness = journey_niceness_weighted_avg[best_journey_pos]\n",
    "\n"
   ]
  },
  {
   "cell_type": "code",
   "execution_count": 897,
   "id": "4fcd53e0",
   "metadata": {},
   "outputs": [
    {
     "data": {
      "text/plain": [
       "[[51.5074, 0.1278],\n",
       " [51.738103, -1.214844],\n",
       " [52.830692, 1.382878],\n",
       " [54.9783, 1.6178]]"
      ]
     },
     "execution_count": 897,
     "metadata": {},
     "output_type": "execute_result"
    }
   ],
   "source": [
    "marker_coords = list(zip(output_results.latitude, output_results.longitude))\n",
    "marker_coords = [list(x) for x in marker_coords]\n",
    "marker_coords"
   ]
  },
  {
   "cell_type": "code",
   "execution_count": 902,
   "id": "226b9201",
   "metadata": {},
   "outputs": [
    {
     "data": {
      "text/plain": [
       "['start', 'aaa', 'aaa', 'end']"
      ]
     },
     "execution_count": 902,
     "metadata": {},
     "output_type": "execute_result"
    }
   ],
   "source": [
    "place_names = output_results.name.tolist()\n",
    "place_names"
   ]
  },
  {
   "cell_type": "code",
   "execution_count": 906,
   "id": "b4bfb393",
   "metadata": {},
   "outputs": [],
   "source": [
    "temp_vals = {'polyline_array': polyline_array,\n",
    "            'output_results':output_results,\n",
    "             'destination_names': destination_names,\n",
    "             'pcodes': pcodes,\n",
    "             'place_names':place_names,\n",
    "            'hrs_driving': hrs_driving,\n",
    "            'total_miles': total_miles,\n",
    "            'time_charging':time_charging,\n",
    "            'journey_niceness': journey_niceness,\n",
    "            'marker_coords': marker_coords} \n",
    "\n",
    "np.save('/Users/dftdatascience/Desktop/ev-charge-planner/flask/dummy_output.npy', temp_vals) \n",
    "\n"
   ]
  },
  {
   "cell_type": "code",
   "execution_count": 870,
   "id": "4fa78224",
   "metadata": {},
   "outputs": [
    {
     "data": {
      "text/plain": [
       "'OX4 2ED'"
      ]
     },
     "execution_count": 870,
     "metadata": {},
     "output_type": "execute_result"
    }
   ],
   "source": [
    "output_results[1:len(output_results)-1:]['name'].index"
   ]
  },
  {
   "cell_type": "code",
   "execution_count": 905,
   "id": "a9407013",
   "metadata": {},
   "outputs": [
    {
     "data": {
      "text/plain": [
       "0.7139376400030314"
      ]
     },
     "execution_count": 905,
     "metadata": {},
     "output_type": "execute_result"
    }
   ],
   "source": [
    "journey_niceness"
   ]
  },
  {
   "cell_type": "code",
   "execution_count": 955,
   "id": "a5a41922",
   "metadata": {},
   "outputs": [],
   "source": [
    "x = pd.read_csv('/Users/dftdatascience/Desktop/ev-charge-planner/flask/sample_ncr_created.csv')"
   ]
  },
  {
   "cell_type": "code",
   "execution_count": 956,
   "id": "670fdefc",
   "metadata": {},
   "outputs": [
    {
     "data": {
      "text/html": [
       "<div>\n",
       "<style scoped>\n",
       "    .dataframe tbody tr th:only-of-type {\n",
       "        vertical-align: middle;\n",
       "    }\n",
       "\n",
       "    .dataframe tbody tr th {\n",
       "        vertical-align: top;\n",
       "    }\n",
       "\n",
       "    .dataframe thead th {\n",
       "        text-align: right;\n",
       "    }\n",
       "</style>\n",
       "<table border=\"1\" class=\"dataframe\">\n",
       "  <thead>\n",
       "    <tr style=\"text-align: right;\">\n",
       "      <th></th>\n",
       "      <th>Unnamed: 0</th>\n",
       "      <th>latitude</th>\n",
       "      <th>longitude</th>\n",
       "      <th>rating</th>\n",
       "      <th>name</th>\n",
       "      <th>FastestConnector_kW</th>\n",
       "    </tr>\n",
       "  </thead>\n",
       "  <tbody>\n",
       "    <tr>\n",
       "      <th>0</th>\n",
       "      <td>86</td>\n",
       "      <td>53.753872</td>\n",
       "      <td>-2.440800</td>\n",
       "      <td>4.350000</td>\n",
       "      <td>Eurogarages - Frontier Park</td>\n",
       "      <td>50.0</td>\n",
       "    </tr>\n",
       "    <tr>\n",
       "      <th>1</th>\n",
       "      <td>257</td>\n",
       "      <td>54.798219</td>\n",
       "      <td>-2.870099</td>\n",
       "      <td>4.000000</td>\n",
       "      <td>MO Southwaite Northbound</td>\n",
       "      <td>50.0</td>\n",
       "    </tr>\n",
       "    <tr>\n",
       "      <th>2</th>\n",
       "      <td>446</td>\n",
       "      <td>52.935397</td>\n",
       "      <td>-1.464838</td>\n",
       "      <td>4.050000</td>\n",
       "      <td>Bristol Street Motors Nissan Derby 1</td>\n",
       "      <td>50.0</td>\n",
       "    </tr>\n",
       "    <tr>\n",
       "      <th>3</th>\n",
       "      <td>484</td>\n",
       "      <td>54.889764</td>\n",
       "      <td>-1.559139</td>\n",
       "      <td>4.000000</td>\n",
       "      <td>MO Washington Northbound</td>\n",
       "      <td>50.0</td>\n",
       "    </tr>\n",
       "    <tr>\n",
       "      <th>4</th>\n",
       "      <td>506</td>\n",
       "      <td>53.256707</td>\n",
       "      <td>-0.925256</td>\n",
       "      <td>4.666667</td>\n",
       "      <td>Markham Moor Inn</td>\n",
       "      <td>175.0</td>\n",
       "    </tr>\n",
       "  </tbody>\n",
       "</table>\n",
       "</div>"
      ],
      "text/plain": [
       "   Unnamed: 0   latitude  longitude    rating  \\\n",
       "0          86  53.753872  -2.440800  4.350000   \n",
       "1         257  54.798219  -2.870099  4.000000   \n",
       "2         446  52.935397  -1.464838  4.050000   \n",
       "3         484  54.889764  -1.559139  4.000000   \n",
       "4         506  53.256707  -0.925256  4.666667   \n",
       "\n",
       "                                   name  FastestConnector_kW  \n",
       "0           Eurogarages - Frontier Park                 50.0  \n",
       "1              MO Southwaite Northbound                 50.0  \n",
       "2  Bristol Street Motors Nissan Derby 1                 50.0  \n",
       "3              MO Washington Northbound                 50.0  \n",
       "4                      Markham Moor Inn                175.0  "
      ]
     },
     "execution_count": 956,
     "metadata": {},
     "output_type": "execute_result"
    }
   ],
   "source": [
    "x.head()\n",
    "\n",
    "    "
   ]
  },
  {
   "cell_type": "code",
   "execution_count": 957,
   "id": "371fd461",
   "metadata": {},
   "outputs": [
    {
     "data": {
      "text/plain": [
       "(59, 6)"
      ]
     },
     "execution_count": 957,
     "metadata": {},
     "output_type": "execute_result"
    }
   ],
   "source": [
    "x.shape\n",
    "\n",
    "\n",
    "\n"
   ]
  },
  {
   "cell_type": "code",
   "execution_count": null,
   "id": "21c6f47b",
   "metadata": {},
   "outputs": [],
   "source": []
  },
  {
   "cell_type": "code",
   "execution_count": null,
   "id": "c4e83596",
   "metadata": {},
   "outputs": [],
   "source": [
    "\n"
   ]
  },
  {
   "cell_type": "code",
   "execution_count": null,
   "id": "d75efe4f",
   "metadata": {},
   "outputs": [],
   "source": []
  },
  {
   "cell_type": "code",
   "execution_count": null,
   "id": "c8a6a521",
   "metadata": {},
   "outputs": [],
   "source": [
    "## making smaller postcode/latlong lookup"
   ]
  },
  {
   "cell_type": "code",
   "execution_count": 908,
   "id": "036a8b33",
   "metadata": {},
   "outputs": [],
   "source": [
    "d = pd.read_csv('ukpostcodes.csv')"
   ]
  },
  {
   "cell_type": "code",
   "execution_count": 910,
   "id": "08425f78",
   "metadata": {},
   "outputs": [],
   "source": [
    "d.drop(columns=['id'], inplace=True)"
   ]
  },
  {
   "cell_type": "code",
   "execution_count": 917,
   "id": "bcd4fa19",
   "metadata": {},
   "outputs": [],
   "source": [
    "d['longitude'] = d['longitude'].astype('float32')\n",
    "d['latitude'] = d['latitude'].astype('float32')\n",
    "d['postcode'] = d.postcode.str.strip()\n",
    "d['postcode'] = d['postcode'].replace('\\s+', ' ', regex=True)"
   ]
  },
  {
   "cell_type": "code",
   "execution_count": 933,
   "id": "401991c8",
   "metadata": {},
   "outputs": [],
   "source": [
    "d.reset_index(drop=True, inplace=True)"
   ]
  },
  {
   "cell_type": "code",
   "execution_count": 934,
   "id": "79eba1d9",
   "metadata": {},
   "outputs": [],
   "source": [
    "d.to_parquet('ukpostcodes_processed.parquet')"
   ]
  },
  {
   "cell_type": "code",
   "execution_count": 919,
   "id": "7ee9b2cc",
   "metadata": {},
   "outputs": [
    {
     "data": {
      "text/html": [
       "<div>\n",
       "<style scoped>\n",
       "    .dataframe tbody tr th:only-of-type {\n",
       "        vertical-align: middle;\n",
       "    }\n",
       "\n",
       "    .dataframe tbody tr th {\n",
       "        vertical-align: top;\n",
       "    }\n",
       "\n",
       "    .dataframe thead th {\n",
       "        text-align: right;\n",
       "    }\n",
       "</style>\n",
       "<table border=\"1\" class=\"dataframe\">\n",
       "  <thead>\n",
       "    <tr style=\"text-align: right;\">\n",
       "      <th></th>\n",
       "      <th>postcode</th>\n",
       "      <th>latitude</th>\n",
       "      <th>longitude</th>\n",
       "    </tr>\n",
       "  </thead>\n",
       "  <tbody>\n",
       "    <tr>\n",
       "      <th>0</th>\n",
       "      <td>AB10 1XG</td>\n",
       "      <td>57.144165</td>\n",
       "      <td>-2.114848</td>\n",
       "    </tr>\n",
       "    <tr>\n",
       "      <th>1</th>\n",
       "      <td>AB10 6RN</td>\n",
       "      <td>57.137878</td>\n",
       "      <td>-2.121487</td>\n",
       "    </tr>\n",
       "    <tr>\n",
       "      <th>2</th>\n",
       "      <td>AB10 7JB</td>\n",
       "      <td>57.124275</td>\n",
       "      <td>-2.127190</td>\n",
       "    </tr>\n",
       "    <tr>\n",
       "      <th>3</th>\n",
       "      <td>AB11 5QN</td>\n",
       "      <td>57.142700</td>\n",
       "      <td>-2.093295</td>\n",
       "    </tr>\n",
       "    <tr>\n",
       "      <th>4</th>\n",
       "      <td>AB11 6UL</td>\n",
       "      <td>57.137547</td>\n",
       "      <td>-2.112233</td>\n",
       "    </tr>\n",
       "  </tbody>\n",
       "</table>\n",
       "</div>"
      ],
      "text/plain": [
       "   postcode   latitude  longitude\n",
       "0  AB10 1XG  57.144165  -2.114848\n",
       "1  AB10 6RN  57.137878  -2.121487\n",
       "2  AB10 7JB  57.124275  -2.127190\n",
       "3  AB11 5QN  57.142700  -2.093295\n",
       "4  AB11 6UL  57.137547  -2.112233"
      ]
     },
     "execution_count": 919,
     "metadata": {},
     "output_type": "execute_result"
    }
   ],
   "source": [
    "d.head()"
   ]
  },
  {
   "cell_type": "code",
   "execution_count": 935,
   "id": "58bc8552",
   "metadata": {},
   "outputs": [
    {
     "data": {
      "text/plain": [
       "941271    52.056999\n",
       "Name: latitude, dtype: float32"
      ]
     },
     "execution_count": 935,
     "metadata": {},
     "output_type": "execute_result"
    }
   ],
   "source": [
    "first_ix = d['postcode'] == 'IP4 5LL'\n",
    "d.loc[first_ix,'latitude']"
   ]
  },
  {
   "cell_type": "code",
   "execution_count": 977,
   "id": "d78d13e9",
   "metadata": {},
   "outputs": [
    {
     "name": "stderr",
     "output_type": "stream",
     "text": [
      "<ipython-input-977-312d456d12c1>:7: RuntimeWarning: invalid value encountered in true_divide\n",
      "  quality_all_stops * charge_times_all_stops / np.sum(charge_times_all_stops, axis = 1)[:,None]\n",
      "<ipython-input-977-312d456d12c1>:8: RuntimeWarning: invalid value encountered in true_divide\n",
      "  x = quality_all_stops * charge_times_all_stops / np.sum(charge_times_all_stops, axis = 1)[:,None]\n"
     ]
    },
    {
     "data": {
      "text/plain": [
       "(761, 2)"
      ]
     },
     "execution_count": 977,
     "metadata": {},
     "output_type": "execute_result"
    }
   ],
   "source": [
    "charge_times_all_stops = np.loadtxt('/Users/dftdatascience/Desktop/ev-charge-planner/flask/charge_times_all_stops.csv', delimiter=\",\")\n",
    "quality_all_stops = np.loadtxt('/Users/dftdatascience/Desktop/ev-charge-planner/flask/quality_all_stops.csv', delimiter=\",\")\n",
    "\n",
    "\n",
    "#np.average(quality_all_stops, axis=1))#, weights=charge_times_all_stops)\n",
    "\n",
    "quality_all_stops * charge_times_all_stops / np.sum(charge_times_all_stops, axis = 1)[:,None]\n",
    "x = quality_all_stops * charge_times_all_stops / np.sum(charge_times_all_stops, axis = 1)[:,None]\n",
    "\n",
    "x.shape"
   ]
  },
  {
   "cell_type": "code",
   "execution_count": 961,
   "id": "53b2970b",
   "metadata": {},
   "outputs": [
    {
     "data": {
      "text/plain": [
       "array([[2.69975283, 0.        ],\n",
       "       [1.95264187, 0.        ],\n",
       "       [2.40416203, 0.        ],\n",
       "       ...,\n",
       "       [0.04931118, 0.87310132],\n",
       "       [0.10144728, 0.49473583],\n",
       "       [0.62138397, 0.82615011]])"
      ]
     },
     "execution_count": 961,
     "metadata": {},
     "output_type": "execute_result"
    }
   ],
   "source": [
    "charge_times_all_stops"
   ]
  },
  {
   "cell_type": "code",
   "execution_count": 964,
   "id": "c4c71119",
   "metadata": {},
   "outputs": [
    {
     "data": {
      "text/plain": [
       "array([[3. , 0. ],\n",
       "       [3.7, 0. ],\n",
       "       [4.3, 0. ],\n",
       "       ...,\n",
       "       [3.8, 3.8],\n",
       "       [3.8, 3.8],\n",
       "       [3.8, 3.8]])"
      ]
     },
     "execution_count": 964,
     "metadata": {},
     "output_type": "execute_result"
    }
   ],
   "source": [
    "quality_all_stops"
   ]
  },
  {
   "cell_type": "code",
   "execution_count": null,
   "id": "797d990c",
   "metadata": {},
   "outputs": [],
   "source": [
    "journey_niceness_weighted_avg"
   ]
  }
 ],
 "metadata": {
  "kernelspec": {
   "display_name": "Python 3",
   "language": "python",
   "name": "python3"
  },
  "language_info": {
   "codemirror_mode": {
    "name": "ipython",
    "version": 3
   },
   "file_extension": ".py",
   "mimetype": "text/x-python",
   "name": "python",
   "nbconvert_exporter": "python",
   "pygments_lexer": "ipython3",
   "version": "3.8.8"
  }
 },
 "nbformat": 4,
 "nbformat_minor": 5
}
